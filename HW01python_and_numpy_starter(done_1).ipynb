{
  "cells": [
    {
      "cell_type": "markdown",
      "metadata": {
        "id": "view-in-github",
        "colab_type": "text"
      },
      "source": [
        "<a href=\"https://colab.research.google.com/github/Euna-Kim322/Euna-Kim322/blob/main/HW01python_and_numpy_starter(done_1).ipynb\" target=\"_parent\"><img src=\"https://colab.research.google.com/assets/colab-badge.svg\" alt=\"Open In Colab\"/></a>"
      ]
    },
    {
      "cell_type": "markdown",
      "source": [
        "\n",
        "1. Set up your environment (skip this if you’ve completed the first activity). There are several\n",
        "options for getting up and running:\n",
        "```\n",
        "• Install Python and Jupyter on your laptop. This is the preferable approach, but takes\n",
        "more effort.\n",
        "• Use the Computer Aided Engineering (CAE) Jupyter setup (the link can be found on\n",
        "the course website).\n",
        "• Use a cloud/web environment such as Google Colabs.\n",
        "\n"
      ],
      "metadata": {
        "id": "B7A6HRDF6Ghe"
      }
    },
    {
      "cell_type": "code",
      "execution_count": 2,
      "metadata": {
        "colab": {
          "base_uri": "https://localhost:8080/"
        },
        "id": "Nr-cOari5T8P",
        "outputId": "f17dd9d4-d33c-43dc-8098-2cdfc728d6e3"
      },
      "outputs": [
        {
          "output_type": "stream",
          "name": "stdout",
          "text": [
            "List of strings is:\n",
            "['this', 'for', 'analysis', 'learning', 'define', 'set', 'automatically', 'and', 'patterns', 'or', 'of']\n",
            "\n",
            "16th word from end is:\n",
            "use\n",
            "\n",
            "Tuple of strings is:\n",
            "('this', 'for', 'analysis', 'learning', 'define', 'set', 'automatically', 'and', 'patterns', 'or', 'of')\n"
          ]
        }
      ],
      "source": [
        "# Use triple quotes if you want to enter a string on more than one line\n",
        "\n",
        "in_string = \"\"\"this deluge of data calls for automated methods of data analysis\n",
        "which is what machine learning provides in particular we define machine learning\n",
        "as a set of methods that can automatically detect patterns in data and then use\n",
        "the uncovered patterns to predict future data or to perform other kinds of decision\n",
        "making under uncertainty\"\"\"\n",
        "\n",
        "list_of_strings = in_string.split()       # https://www.w3schools.com/python/ref_string_split.asp\n",
        "print('List of strings is:')\n",
        "print(list_of_strings[::5])              # fix me to answer the question\n",
        "\n",
        "print('\\n16th word from end is:')         # \\n generates a newline\n",
        "print(list_of_strings[-18])               # fix me to answer the question\n",
        "\n",
        "tuple_of_strings = tuple(list_of_strings)\n",
        "print('\\nTuple of strings is:')\n",
        "print(tuple_of_strings[::5])             # fix me to answer the question"
      ]
    },
    {
      "cell_type": "markdown",
      "source": [
        "2. Lists, tuples, sets and dictionaries. Use the starter notebook to help with the remaining problems. Four built in data structures in Python that we will make use of are lists, tuples, sets and dictionaries\n",
        "```\n",
        "a) A list is exactly that: a list. Python lists are ordered and changeable. Write code to\n",
        "convert the following paragraph to a list of strings:\n",
        "this deluge of data calls for automated methods of data analysis which is what\n",
        "machine learning provides in particular we define machine learning as a set\n",
        "of methods that can automatically detect patterns in data and then use the\n",
        "uncovered patterns to predict future data or to perform other kinds of decision\n",
        "making under uncertainty\n",
        "```"
      ],
      "metadata": {
        "id": "RjOIZL0b6eSw"
      }
    },
    {
      "cell_type": "markdown",
      "source": [
        "a) Write code to convert the following paragraph to a list of strings."
      ],
      "metadata": {
        "id": "5Z1SlwfG795T"
      }
    },
    {
      "cell_type": "code",
      "source": [
        "list_of_strings = in_string.split()\n",
        "print(list_of_strings[::])\n",
        "list_of_strings"
      ],
      "metadata": {
        "colab": {
          "base_uri": "https://localhost:8080/"
        },
        "id": "aqSgvewo7vWY",
        "outputId": "f3a7225c-29e5-46b8-f7b1-7a8eddbdc12d"
      },
      "execution_count": 13,
      "outputs": [
        {
          "output_type": "stream",
          "name": "stdout",
          "text": [
            "['this', 'deluge', 'of', 'data', 'calls', 'for', 'automated', 'methods', 'of', 'data', 'analysis', 'which', 'is', 'what', 'machine', 'learning', 'provides', 'in', 'particular', 'we', 'define', 'machine', 'learning', 'as', 'a', 'set', 'of', 'methods', 'that', 'can', 'automatically', 'detect', 'patterns', 'in', 'data', 'and', 'then', 'use', 'the', 'uncovered', 'patterns', 'to', 'predict', 'future', 'data', 'or', 'to', 'perform', 'other', 'kinds', 'of', 'decision', 'making', 'under', 'uncertainty']\n"
          ]
        },
        {
          "output_type": "execute_result",
          "data": {
            "text/plain": [
              "['this',\n",
              " 'deluge',\n",
              " 'of',\n",
              " 'data',\n",
              " 'calls',\n",
              " 'for',\n",
              " 'automated',\n",
              " 'methods',\n",
              " 'of',\n",
              " 'data',\n",
              " 'analysis',\n",
              " 'which',\n",
              " 'is',\n",
              " 'what',\n",
              " 'machine',\n",
              " 'learning',\n",
              " 'provides',\n",
              " 'in',\n",
              " 'particular',\n",
              " 'we',\n",
              " 'define',\n",
              " 'machine',\n",
              " 'learning',\n",
              " 'as',\n",
              " 'a',\n",
              " 'set',\n",
              " 'of',\n",
              " 'methods',\n",
              " 'that',\n",
              " 'can',\n",
              " 'automatically',\n",
              " 'detect',\n",
              " 'patterns',\n",
              " 'in',\n",
              " 'data',\n",
              " 'and',\n",
              " 'then',\n",
              " 'use',\n",
              " 'the',\n",
              " 'uncovered',\n",
              " 'patterns',\n",
              " 'to',\n",
              " 'predict',\n",
              " 'future',\n",
              " 'data',\n",
              " 'or',\n",
              " 'to',\n",
              " 'perform',\n",
              " 'other',\n",
              " 'kinds',\n",
              " 'of',\n",
              " 'decision',\n",
              " 'making',\n",
              " 'under',\n",
              " 'uncertainty']"
            ]
          },
          "metadata": {},
          "execution_count": 13
        }
      ]
    },
    {
      "cell_type": "markdown",
      "source": [
        "b) Create a new list that consists of every third word from the original list; print the new list, which should start with “of”. Do not write a for loop"
      ],
      "metadata": {
        "id": "mvCYp0VJ8L_-"
      }
    },
    {
      "cell_type": "code",
      "source": [
        "everythirdword_list = list_of_strings[2::3]\n",
        "everythirdword_list"
      ],
      "metadata": {
        "colab": {
          "base_uri": "https://localhost:8080/"
        },
        "id": "63dMJyY-9Pyq",
        "outputId": "2d32ad45-48bd-4026-d31e-b19dcf876225"
      },
      "execution_count": 20,
      "outputs": [
        {
          "output_type": "execute_result",
          "data": {
            "text/plain": [
              "['of',\n",
              " 'for',\n",
              " 'of',\n",
              " 'which',\n",
              " 'machine',\n",
              " 'in',\n",
              " 'define',\n",
              " 'as',\n",
              " 'of',\n",
              " 'can',\n",
              " 'patterns',\n",
              " 'and',\n",
              " 'the',\n",
              " 'to',\n",
              " 'data',\n",
              " 'perform',\n",
              " 'of',\n",
              " 'under']"
            ]
          },
          "metadata": {},
          "execution_count": 20
        }
      ]
    },
    {
      "cell_type": "markdown",
      "source": [
        "(c) What is the 16th from last item in the original list?"
      ],
      "metadata": {
        "id": "60vywY9u-vdn"
      }
    },
    {
      "cell_type": "code",
      "source": [
        "list_of_strings[-16]"
      ],
      "metadata": {
        "colab": {
          "base_uri": "https://localhost:8080/",
          "height": 35
        },
        "id": "omuoEuya-u2-",
        "outputId": "5fc2dbc6-f27f-4f4d-99a8-56cca67cc90c"
      },
      "execution_count": 23,
      "outputs": [
        {
          "output_type": "execute_result",
          "data": {
            "text/plain": [
              "'uncovered'"
            ],
            "application/vnd.google.colaboratory.intrinsic+json": {
              "type": "string"
            }
          },
          "metadata": {},
          "execution_count": 23
        }
      ]
    },
    {
      "cell_type": "markdown",
      "source": [
        "(d) Convert the new list you created in part b to a tuple; print the tuple. When should you\n",
        "use a tuple instead of a list?"
      ],
      "metadata": {
        "id": "0i9avc46_1V5"
      }
    },
    {
      "cell_type": "code",
      "source": [
        "tuple(everythirdword_list)"
      ],
      "metadata": {
        "colab": {
          "base_uri": "https://localhost:8080/"
        },
        "id": "t8oVllmrAEHb",
        "outputId": "df729a40-7ffd-4977-d491-2b3448e977c6"
      },
      "execution_count": 24,
      "outputs": [
        {
          "output_type": "execute_result",
          "data": {
            "text/plain": [
              "('of',\n",
              " 'for',\n",
              " 'of',\n",
              " 'which',\n",
              " 'machine',\n",
              " 'in',\n",
              " 'define',\n",
              " 'as',\n",
              " 'of',\n",
              " 'can',\n",
              " 'patterns',\n",
              " 'and',\n",
              " 'the',\n",
              " 'to',\n",
              " 'data',\n",
              " 'perform',\n",
              " 'of',\n",
              " 'under')"
            ]
          },
          "metadata": {},
          "execution_count": 24
        }
      ]
    },
    {
      "cell_type": "markdown",
      "source": [
        "When use a tuple instead of a list? :\n",
        "1. Tuples are immutable, so the contents can't be altered after they are created. This immutability can serve as a form of \"safety\" against inadvertent data modification.\n",
        "2. Tuples can be used as keys in dictionaries, whereas lists cannot. Sequence type.\n",
        "3. Data Integrity : use a tuple. For instance, if you are passing around a collection of values and want to ensure they don't get modified, a tuple ensures this integrity due to its immutability.\n",
        "4. Performance : Tuples can be slightly faster than lists for iteration and access due to their static nature. If performance is crucial, and your dataset doesn't need to change, you might opt for a tuple.\n",
        "5. Semantic Meaning: Using a tuple can convey to other developers that the contained data should not change. For\n",
        "6. Unpacking: Tuples are often used for unpacking multiple return values from functions.\n",
        "7. Memory: Tuples can be more memory-efficient than lists due to their static nature. If you have an ordered collection of items and you don't anticipate needing to modify them (add, delete, change), then choose a tuple."
      ],
      "metadata": {
        "id": "eTEffiirAVRs"
      }
    },
    {
      "cell_type": "markdown",
      "source": [
        "(e) Convert the list to a set and print the set. How many items are in the set? What is the\n",
        "difference between a list and a set?\n"
      ],
      "metadata": {
        "id": "i6EphbPFTMM9"
      }
    },
    {
      "cell_type": "code",
      "execution_count": 6,
      "metadata": {
        "colab": {
          "base_uri": "https://localhost:8080/"
        },
        "id": "s1UHH9nF5T8S",
        "outputId": "fa01d7be-88ab-435f-b25f-63584d6451c5"
      },
      "outputs": [
        {
          "output_type": "stream",
          "name": "stdout",
          "text": [
            "Set of strings is:\n",
            "{'analysis', 'use', 'perform', 'kinds', 'is', 'data', 'particular', 'we', 'under', 'detect', 'uncovered', 'making', 'automatically', 'other', 'machine', 'uncertainty', 'provides', 'predict', 'in', 'future', 'as', 'to', 'of', 'then', 'methods', 'a', 'the', 'this', 'or', 'can', 'learning', 'deluge', 'patterns', 'what', 'define', 'which', 'for', 'decision', 'calls', 'set', 'and', 'automated', 'that'}\n",
            "\n",
            "Number of strings in the set = 43\n",
            "\n",
            "Number of strings in the original list = 55\n"
          ]
        }
      ],
      "source": [
        "set_of_strings = set(list_of_strings)\n",
        "print('Set of strings is:\\n',set_of_strings,'\\n',sep='')         # What happens if you remove ,sep='' ?\n",
        "print(f'Number of strings in the set = {len(set_of_strings)}\\n') # https://www.geeksforgeeks.org/formatted-string-literals-f-strings-python/\n",
        "print(f'Number of strings in the original list = {len(list_of_strings)}')"
      ]
    },
    {
      "cell_type": "markdown",
      "source": [
        "How many items are in the set : 43 items, while the list has 55 strings."
      ],
      "metadata": {
        "id": "v7ldD6-bTWtJ"
      }
    },
    {
      "cell_type": "markdown",
      "source": [
        "What is the difference between a list and a set?\n"
      ],
      "metadata": {
        "id": "cChmCv6gT1H3"
      }
    },
    {
      "cell_type": "markdown",
      "source": [
        "1. Order: Set does not maintain any specific order, while the list maintainsthe order of elements based on their insertion order.\n",
        "2. Duplicates: Set does NOT allow duplicate values, each element in a set is unique, while the list allows duplicate values, such as in above question(How many items are in the set?)\n",
        "3. Mutability: Set is mutable, in the sense that you can add or remove elements. Howvever, the elements themselves, once inside the set, are immutable (i.e., you cannot change an existing element, but you can add or remove elements).\n",
        "4. Syntax: Set: Defined using curly braces {} or the set() constructor, while the list use []\n",
        "5. Access: Set does NOT support indexing, slicing, or other sequence-like behavior, while the List's elements can be accessed using their index.\n",
        "6. Use Cases:\n",
        "List: When order and element duplication matter, or when you need to frequently access elements by their position.\n",
        "Set: When you need to ensure elements are unique or when you need fast membership testing (checking if an element is present), as sets are implemented as hash tables.\n",
        "7. Operations: Set supports set-specific operations(union, intersection, difference, etc. while List supports operations like append, pop, slice, etc.\n",
        "8. Storage:  Set's Elements may be stored in a different order internally, optimized for membership checks, while the List stores items as they are added.\n",
        "9. Flexibility: List can contain mixed data types (e.g., integers, strings, and even other lists), while Set can also contain mixed data types, but all elements must be hashable.\n",
        "\n",
        "Then, we should choose a list when the order of elements and the ability to have duplicates are important. But choose a set when you need to ensure uniqueness of elements or when you need to perform set-specific operations efficiently."
      ],
      "metadata": {
        "id": "uiUMmme5URLI"
      }
    },
    {
      "cell_type": "code",
      "source": [],
      "metadata": {
        "id": "_dfNitgF59mp"
      },
      "execution_count": null,
      "outputs": []
    },
    {
      "cell_type": "markdown",
      "source": [
        "(f) A Python dictionary consists of key, value pairs. Create a Python dictionary where\n",
        "each distinct word in the paragraph above is the key, and the corresponding value is the\n",
        "count of times that word appears."
      ],
      "metadata": {
        "id": "eHA1YZSPUBwb"
      }
    },
    {
      "cell_type": "code",
      "execution_count": 27,
      "metadata": {
        "colab": {
          "base_uri": "https://localhost:8080/"
        },
        "id": "72as6WEq5T8U",
        "outputId": "d0e90583-5c85-4ffd-8ea3-2c9b78c8e47f"
      },
      "outputs": [
        {
          "output_type": "stream",
          "name": "stdout",
          "text": [
            "Dictionary is:\n",
            "{'this': 1, 'deluge': 1, 'of': 4, 'data': 4, 'calls': 1, 'for': 1, 'automated': 1, 'methods': 2, 'analysis': 1, 'which': 1, 'is': 1, 'what': 1, 'machine': 2, 'learning': 2, 'provides': 1, 'in': 2, 'particular': 1, 'we': 1, 'define': 1, 'as': 1, 'a': 1, 'set': 1, 'that': 1, 'can': 1, 'automatically': 1, 'detect': 1, 'patterns': 2, 'and': 1, 'then': 1, 'use': 1, 'the': 1, 'uncovered': 1, 'to': 2, 'predict': 1, 'future': 1, 'or': 1, 'perform': 1, 'other': 1, 'kinds': 1, 'decision': 1, 'making': 1, 'under': 1, 'uncertainty': 1}\n",
            "\n",
            "Wordcounts = dict_values([1, 1, 4, 4, 1, 1, 1, 2, 1, 1, 1, 1, 2, 2, 1, 2, 1, 1, 1, 1, 1, 1, 1, 1, 1, 1, 2, 1, 1, 1, 1, 1, 2, 1, 1, 1, 1, 1, 1, 1, 1, 1, 1])\n",
            "\n",
            "max word count is 4\n",
            "\"of\" occurs 4 times\n",
            "\"data\" occurs 4 times\n"
          ]
        }
      ],
      "source": [
        "d = {}  #create an empty dictionary\n",
        "for i in list_of_strings:\n",
        "    if i not in d:\n",
        "        d[i]=0\n",
        "    d[i]+= 1                      # <====== complete this line\n",
        "\n",
        "print(f'Dictionary is:\\n{d}\\n') # Print dictionary and extra newline\n",
        "\n",
        "v = d.values() # extract word counts\n",
        "print(f'Wordcounts = {v}\\n') # print word counts\n",
        "maxv = max(v) # find largest word count\n",
        "print(f'max word count is {maxv}')\n",
        "for i in d:\n",
        "    if d[i]==maxv:\n",
        "        print(f'\"{i}\" occurs {maxv} times')"
      ]
    },
    {
      "cell_type": "markdown",
      "source": [
        "(g) Which word/words appears most frequently, and how many times does it appear?"
      ],
      "metadata": {
        "id": "gDR7FQuiWnUl"
      }
    },
    {
      "cell_type": "code",
      "source": [
        "print(f'Dictionary is:\\n{d}\\n') # Print dictionary and extra newline\n",
        "\n",
        "v = d.values() # extract word counts\n",
        "print(f'Wordcounts = {v}\\n') # print word counts\n",
        "maxv = max(v) # find largest word count\n",
        "print(f'max word count is {maxv}')\n",
        "for i in d:\n",
        "    if d[i]==maxv:\n",
        "        print(f'\"{i}\" occurs {maxv} times')"
      ],
      "metadata": {
        "colab": {
          "base_uri": "https://localhost:8080/"
        },
        "id": "mnvTFJ0oWxpY",
        "outputId": "b870b81b-d7e2-4e3b-92ca-efd89dbf02a3"
      },
      "execution_count": 28,
      "outputs": [
        {
          "output_type": "stream",
          "name": "stdout",
          "text": [
            "Dictionary is:\n",
            "{'this': 1, 'deluge': 1, 'of': 4, 'data': 4, 'calls': 1, 'for': 1, 'automated': 1, 'methods': 2, 'analysis': 1, 'which': 1, 'is': 1, 'what': 1, 'machine': 2, 'learning': 2, 'provides': 1, 'in': 2, 'particular': 1, 'we': 1, 'define': 1, 'as': 1, 'a': 1, 'set': 1, 'that': 1, 'can': 1, 'automatically': 1, 'detect': 1, 'patterns': 2, 'and': 1, 'then': 1, 'use': 1, 'the': 1, 'uncovered': 1, 'to': 2, 'predict': 1, 'future': 1, 'or': 1, 'perform': 1, 'other': 1, 'kinds': 1, 'decision': 1, 'making': 1, 'under': 1, 'uncertainty': 1}\n",
            "\n",
            "Wordcounts = dict_values([1, 1, 4, 4, 1, 1, 1, 2, 1, 1, 1, 1, 2, 2, 1, 2, 1, 1, 1, 1, 1, 1, 1, 1, 1, 1, 2, 1, 1, 1, 1, 1, 2, 1, 1, 1, 1, 1, 1, 1, 1, 1, 1])\n",
            "\n",
            "max word count is 4\n",
            "\"of\" occurs 4 times\n",
            "\"data\" occurs 4 times\n"
          ]
        }
      ]
    },
    {
      "cell_type": "markdown",
      "source": [
        "The most frequently appearing words are \"of\" and \"data,\" each occurring 4 times."
      ],
      "metadata": {
        "id": "lyOA3ZJGWpNG"
      }
    },
    {
      "cell_type": "markdown",
      "source": [
        "(h) Use a list comprehension to convert the dictionary to a list of tuples, where the first\n",
        "element of the tuple contains the key, and the second element contains the value. Note\n",
        "that your code should be a single line."
      ],
      "metadata": {
        "id": "fJNhZZeQXLl8"
      }
    },
    {
      "cell_type": "code",
      "source": [
        "list_of_tuples = [(k,v) for k,v in d.items()]  #this line uses a list comprehension"
      ],
      "metadata": {
        "id": "3mPLGiX7XLSn"
      },
      "execution_count": 30,
      "outputs": []
    },
    {
      "cell_type": "code",
      "execution_count": 31,
      "metadata": {
        "colab": {
          "base_uri": "https://localhost:8080/"
        },
        "id": "MoRgofXu5T8V",
        "outputId": "9984ebff-d323-4ba5-915a-b423912e566a"
      },
      "outputs": [
        {
          "output_type": "stream",
          "name": "stdout",
          "text": [
            "The list of tuples is:\n",
            "[('this', 1), ('deluge', 1), ('of', 4), ('data', 4), ('calls', 1), ('for', 1), ('automated', 1), ('methods', 2), ('analysis', 1), ('which', 1), ('is', 1), ('what', 1), ('machine', 2), ('learning', 2), ('provides', 1), ('in', 2), ('particular', 1), ('we', 1), ('define', 1), ('as', 1), ('a', 1), ('set', 1), ('that', 1), ('can', 1), ('automatically', 1), ('detect', 1), ('patterns', 2), ('and', 1), ('then', 1), ('use', 1), ('the', 1), ('uncovered', 1), ('to', 2), ('predict', 1), ('future', 1), ('or', 1), ('perform', 1), ('other', 1), ('kinds', 1), ('decision', 1), ('making', 1), ('under', 1), ('uncertainty', 1)]\n"
          ]
        }
      ],
      "source": [
        "print(f'The list of tuples is:\\n{list_of_tuples}')"
      ]
    },
    {
      "cell_type": "markdown",
      "source": [
        "3. NumPy is a numerical computing package for Python. You’ll often see the library imported\n",
        "at the beginning of a script as import numpy as np."
      ],
      "metadata": {
        "id": "NyiBWqgAXhRq"
      }
    },
    {
      "cell_type": "markdown",
      "source": [
        "(a) Python lists can be converted to NumPy arrays. Manually create a list of lists that\n",
        "represents the matrix A"
      ],
      "metadata": {
        "id": "Rhf3eNsdXlCE"
      }
    },
    {
      "cell_type": "code",
      "source": [
        "import numpy as np\n",
        "A = [[1,1,3],[4,4,4],[5,6,9]] # a list of lists for the A\n",
        "A"
      ],
      "metadata": {
        "colab": {
          "base_uri": "https://localhost:8080/"
        },
        "id": "nMp4hglxXs9b",
        "outputId": "d7c669b8-b8b8-4125-ea5e-fbef786b5497"
      },
      "execution_count": 35,
      "outputs": [
        {
          "output_type": "execute_result",
          "data": {
            "text/plain": [
              "[[1, 1, 3], [4, 4, 4], [5, 6, 9]]"
            ]
          },
          "metadata": {},
          "execution_count": 35
        }
      ]
    },
    {
      "cell_type": "markdown",
      "source": [
        "(b) Convert the list of lists to a numpy array using np.array()"
      ],
      "metadata": {
        "id": "CkRDUOAQX9CS"
      }
    },
    {
      "cell_type": "code",
      "source": [
        "A = np.array(A)\n",
        "A"
      ],
      "metadata": {
        "colab": {
          "base_uri": "https://localhost:8080/"
        },
        "id": "p43KEuQcX8ln",
        "outputId": "b44a7782-436e-4c6c-d859-00e19d1f3347"
      },
      "execution_count": 36,
      "outputs": [
        {
          "output_type": "execute_result",
          "data": {
            "text/plain": [
              "array([[1, 1, 3],\n",
              "       [4, 4, 4],\n",
              "       [5, 6, 9]])"
            ]
          },
          "metadata": {},
          "execution_count": 36
        }
      ]
    },
    {
      "cell_type": "markdown",
      "source": [
        "(c) What is invered A? You may find np.linalg.inv() helpful."
      ],
      "metadata": {
        "id": "0vmTSzyzYF7n"
      }
    },
    {
      "cell_type": "code",
      "source": [
        "A_inv = np.linalg.inv(A)\n",
        "A_inv"
      ],
      "metadata": {
        "colab": {
          "base_uri": "https://localhost:8080/"
        },
        "id": "y9n0xej7YNKe",
        "outputId": "3bf4307f-bd1a-4748-cd36-df3c6181bc15"
      },
      "execution_count": 37,
      "outputs": [
        {
          "output_type": "execute_result",
          "data": {
            "text/plain": [
              "array([[ 1.5  ,  1.125, -1.   ],\n",
              "       [-2.   , -0.75 ,  1.   ],\n",
              "       [ 0.5  , -0.125,  0.   ]])"
            ]
          },
          "metadata": {},
          "execution_count": 37
        }
      ]
    },
    {
      "cell_type": "markdown",
      "source": [
        "(d) Solve Ax = b, where b = [1, 2, 3]T. It is more efficient to use\n",
        "x = np.linalg.solve(A,b) than to compute A−1b"
      ],
      "metadata": {
        "id": "RJuYYruTYcg0"
      }
    },
    {
      "cell_type": "code",
      "source": [
        "b = np.array([[1,2,3]]).T\n",
        "b"
      ],
      "metadata": {
        "colab": {
          "base_uri": "https://localhost:8080/"
        },
        "id": "6hjoii-IY8Zi",
        "outputId": "547e68f9-4336-443b-b533-9bb8b096f1e9"
      },
      "execution_count": 44,
      "outputs": [
        {
          "output_type": "execute_result",
          "data": {
            "text/plain": [
              "array([[1],\n",
              "       [2],\n",
              "       [3]])"
            ]
          },
          "metadata": {},
          "execution_count": 44
        }
      ]
    },
    {
      "cell_type": "code",
      "source": [
        "b2 = np.array([1,2,3]).T\n",
        "b2\n",
        "\n",
        "# What happens if you don't use double square brackets?\n",
        "# b is not the 2D column vector, but a 1D array and transposition has no effect."
      ],
      "metadata": {
        "colab": {
          "base_uri": "https://localhost:8080/"
        },
        "id": "XfU6g5RVZJXn",
        "outputId": "d5552818-4d3e-42e5-cf77-f4cd1c7be4ea"
      },
      "execution_count": 45,
      "outputs": [
        {
          "output_type": "execute_result",
          "data": {
            "text/plain": [
              "array([1, 2, 3])"
            ]
          },
          "metadata": {},
          "execution_count": 45
        }
      ]
    },
    {
      "cell_type": "code",
      "source": [
        "x = np.linalg.solve(A,b)\n",
        "x"
      ],
      "metadata": {
        "colab": {
          "base_uri": "https://localhost:8080/"
        },
        "id": "Y0PFMeNwZyRc",
        "outputId": "753ce449-74af-48d6-9885-408104a3860e"
      },
      "execution_count": 47,
      "outputs": [
        {
          "output_type": "execute_result",
          "data": {
            "text/plain": [
              "array([[ 0.75],\n",
              "       [-0.5 ],\n",
              "       [ 0.25]])"
            ]
          },
          "metadata": {},
          "execution_count": 47
        }
      ]
    },
    {
      "cell_type": "code",
      "source": [
        "x = A_inv@b\n",
        "x"
      ],
      "metadata": {
        "colab": {
          "base_uri": "https://localhost:8080/"
        },
        "id": "wvP_HrAbZ8M0",
        "outputId": "8dc02c6f-1d96-4e65-a5ab-12c9db37c256"
      },
      "execution_count": 49,
      "outputs": [
        {
          "output_type": "execute_result",
          "data": {
            "text/plain": [
              "array([[ 0.75],\n",
              "       [-0.5 ],\n",
              "       [ 0.25]])"
            ]
          },
          "metadata": {},
          "execution_count": 49
        }
      ]
    },
    {
      "cell_type": "code",
      "source": [
        "b = np.array([[1,2,3]]).T\n",
        "# What happens if you don't use double square brackets?\n",
        "#\n",
        "print(f'b =\\n{b}\\n')\n",
        "x = A_inv@b                      # @ is the matrix multiplication operator in Numpy, NOT * !!!\n",
        "print(f'x = A_inv*b =\\n{x}\\n')"
      ],
      "metadata": {
        "colab": {
          "base_uri": "https://localhost:8080/"
        },
        "id": "y4fRfVEQYxSh",
        "outputId": "373ca864-b921-4f1d-c6ab-82822c470172"
      },
      "execution_count": 51,
      "outputs": [
        {
          "output_type": "stream",
          "name": "stdout",
          "text": [
            "b =\n",
            "[[1]\n",
            " [2]\n",
            " [3]]\n",
            "\n",
            "x = A_inv*b =\n",
            "[[ 0.75]\n",
            " [-0.5 ]\n",
            " [ 0.25]]\n",
            "\n"
          ]
        }
      ]
    },
    {
      "cell_type": "code",
      "execution_count": 52,
      "metadata": {
        "colab": {
          "base_uri": "https://localhost:8080/"
        },
        "id": "xCC2Zeoh5T8W",
        "outputId": "32701e4c-610b-4935-d31b-cca54c757058"
      },
      "outputs": [
        {
          "output_type": "stream",
          "name": "stdout",
          "text": [
            "The inverse of A is\n",
            "[[ 1.5    1.125 -1.   ]\n",
            " [-2.    -0.75   1.   ]\n",
            " [ 0.5   -0.125  0.   ]]\n",
            "\n",
            "b =\n",
            "[[1]\n",
            " [2]\n",
            " [3]]\n",
            "\n",
            "x = A_inv*b =\n",
            "[[ 0.75]\n",
            " [-0.5 ]\n",
            " [ 0.25]]\n",
            "\n",
            "x = np.linalg.solve(A,b) =\n",
            "[[ 0.75]\n",
            " [-0.5 ]\n",
            " [ 0.25]]\n"
          ]
        }
      ],
      "source": [
        "import numpy as np\n",
        "import matplotlib.pyplot as plt\n",
        "A = [[1,1,3],[4,4,4],[5,6,9]]\n",
        "A = np.array(A)\n",
        "A_inv = np.linalg.inv(A)                         # complete this line.\n",
        "\n",
        "print(f'The inverse of A is\\n{A_inv}\\n')\n",
        "\n",
        "\n",
        "\n",
        "b = np.array([[1,2,3]]).T        # What happens if you don't use double square brackets?\n",
        "print(f'b =\\n{b}\\n')\n",
        "x = A_inv@b                      # @ is the matrix multiplication operator in Numpy, NOT * !!!\n",
        "print(f'x = A_inv*b =\\n{x}\\n')\n",
        "\n",
        "x = np.linalg.solve(A,b)\n",
        "print(f'x = np.linalg.solve(A,b) =\\n{x}')\n",
        "\n",
        "\n",
        "\n",
        "### Write code below to answer question\n",
        "# https://numpy.org/doc/stable/reference/random/index.html\n",
        "\n",
        "\n",
        "# https://danieltakeshi.github.io/2016/09/25/the-expectation-of-the-minimum-of-iid-uniform-random-variables/"
      ]
    },
    {
      "cell_type": "code",
      "source": [],
      "metadata": {
        "id": "gSun324UaJP9"
      },
      "execution_count": null,
      "outputs": []
    },
    {
      "cell_type": "markdown",
      "source": [
        "(e) Create a length n array random numbers distributed uniformly between 0 and 1 using rng = np.random.default_rng(), y=rng.random(n)\n",
        "for n = 10.\n"
      ],
      "metadata": {
        "id": "6-HnxXWFafWP"
      }
    },
    {
      "cell_type": "code",
      "source": [
        "rng = np.random.default_rng()\n",
        "rng.random()"
      ],
      "metadata": {
        "colab": {
          "base_uri": "https://localhost:8080/"
        },
        "id": "zHYLPkyfapiA",
        "outputId": "617d6549-23bf-461e-fb01-0a3c0e2c5ce1"
      },
      "execution_count": 55,
      "outputs": [
        {
          "output_type": "execute_result",
          "data": {
            "text/plain": [
              "0.6682134739192543"
            ]
          },
          "metadata": {},
          "execution_count": 55
        }
      ]
    },
    {
      "cell_type": "code",
      "source": [
        "n = 10\n",
        "y=rng.random(n)\n",
        "y"
      ],
      "metadata": {
        "colab": {
          "base_uri": "https://localhost:8080/"
        },
        "id": "6I9ctw_xav9v",
        "outputId": "b5474f5d-b395-45c1-e0df-2e75d41e886b"
      },
      "execution_count": 62,
      "outputs": [
        {
          "output_type": "execute_result",
          "data": {
            "text/plain": [
              "100"
            ]
          },
          "metadata": {},
          "execution_count": 62
        }
      ]
    },
    {
      "cell_type": "markdown",
      "source": [
        "Repeat for n = 10, 102, 103, 104, 105, 106, 107, 108. For each value of n, record the min-\n",
        "imum value of the array. Hint: you can do this in one line with a list comprehension.\n",
        "Create a plot with n on the horizontal axis and the logarithm of the minimum value on\n",
        "the vertical axis. Are the results what you expect? Why?"
      ],
      "metadata": {
        "id": "pkFA6blVbdyK"
      }
    },
    {
      "cell_type": "code",
      "source": [
        "powerlist = [1,2,3,4,5,6,7,8]\n",
        "nlist =  [10**power for power in powerlist]\n",
        "nlist\n",
        "\n",
        "randomlist = [rng.random(n) for n in nlist]\n",
        "randomlist"
      ],
      "metadata": {
        "colab": {
          "base_uri": "https://localhost:8080/"
        },
        "id": "xVEnO8aSa_fV",
        "outputId": "6c623f7d-d792-48b2-97a3-2da193ca7b45"
      },
      "execution_count": 70,
      "outputs": [
        {
          "output_type": "execute_result",
          "data": {
            "text/plain": [
              "[array([0.21503631, 0.4307071 , 0.32524495, 0.8452415 , 0.03084823,\n",
              "        0.96157828, 0.24223771, 0.13490289, 0.45875544, 0.7673883 ]),\n",
              " array([0.52485201, 0.85333809, 0.53058021, 0.816941  , 0.16211784,\n",
              "        0.18026671, 0.84237434, 0.14580684, 0.6444707 , 0.24859651,\n",
              "        0.5262252 , 0.82872063, 0.35999561, 0.21861977, 0.25433288,\n",
              "        0.67155396, 0.65835395, 0.16679994, 0.40573875, 0.10632849,\n",
              "        0.01231134, 0.78941561, 0.05494788, 0.56252574, 0.95360701,\n",
              "        0.66714502, 0.84201281, 0.33987262, 0.5358978 , 0.87057139,\n",
              "        0.72549559, 0.21768606, 0.83394251, 0.72975322, 0.49866627,\n",
              "        0.75795779, 0.92762219, 0.37473355, 0.13544046, 0.64878599,\n",
              "        0.41574648, 0.80872968, 0.57472036, 0.06785937, 0.93495437,\n",
              "        0.54585928, 0.84576147, 0.091953  , 0.88327406, 0.20965038,\n",
              "        0.24093795, 0.67396332, 0.04196512, 0.54849987, 0.55499451,\n",
              "        0.10913167, 0.25636353, 0.75572284, 0.7617885 , 0.61842552,\n",
              "        0.30829865, 0.60714476, 0.31801508, 0.64249042, 0.1438181 ,\n",
              "        0.65184071, 0.3444733 , 0.588313  , 0.08665685, 0.12471505,\n",
              "        0.64926478, 0.69168804, 0.33729077, 0.04335937, 0.1382518 ,\n",
              "        0.86844566, 0.20392917, 0.46574187, 0.44362286, 0.53399145,\n",
              "        0.22540113, 0.27638359, 0.2406501 , 0.29219403, 0.77004292,\n",
              "        0.79045285, 0.97651387, 0.53687369, 0.76908891, 0.93507307,\n",
              "        0.38047459, 0.91952891, 0.08316214, 0.86272258, 0.68914009,\n",
              "        0.29778117, 0.17141021, 0.88139016, 0.2291123 , 0.74567716]),\n",
              " array([0.88445109, 0.89722078, 0.85308777, 0.57720965, 0.34063447,\n",
              "        0.02534671, 0.50555049, 0.29565437, 0.0783018 , 0.73576466,\n",
              "        0.72715146, 0.0670192 , 0.05697204, 0.06520547, 0.67243452,\n",
              "        0.76647491, 0.36202978, 0.19976895, 0.67878999, 0.21634904,\n",
              "        0.48918002, 0.61259849, 0.2442638 , 0.27901191, 0.25258405,\n",
              "        0.23364353, 0.64616308, 0.53267396, 0.86921078, 0.7675314 ,\n",
              "        0.80193712, 0.31602371, 0.70511967, 0.16821558, 0.88933937,\n",
              "        0.49518807, 0.9790134 , 0.55441456, 0.45630189, 0.79983636,\n",
              "        0.25992246, 0.73202971, 0.50212321, 0.00522149, 0.13450889,\n",
              "        0.95201051, 0.56943877, 0.34581934, 0.74293653, 0.85394792,\n",
              "        0.92360542, 0.15093403, 0.41086932, 0.70552869, 0.47239981,\n",
              "        0.68500823, 0.37885475, 0.66589559, 0.57323048, 0.41020498,\n",
              "        0.85047784, 0.26614447, 0.99700482, 0.14167626, 0.03479747,\n",
              "        0.68525244, 0.04413242, 0.91781293, 0.9887361 , 0.30923713,\n",
              "        0.10729196, 0.20347488, 0.66492472, 0.4472647 , 0.96672042,\n",
              "        0.95040175, 0.7445621 , 0.39702421, 0.98447431, 0.81251484,\n",
              "        0.96698759, 0.23720154, 0.53851716, 0.43864827, 0.24751139,\n",
              "        0.87239682, 0.75448942, 0.11762922, 0.22675724, 0.14692777,\n",
              "        0.83699446, 0.7141726 , 0.01277571, 0.28400091, 0.01444303,\n",
              "        0.08904711, 0.06191523, 0.78022748, 0.13125611, 0.15392376,\n",
              "        0.02461211, 0.45986742, 0.80731639, 0.92525384, 0.285159  ,\n",
              "        0.93001439, 0.17963165, 0.3906918 , 0.26249008, 0.44318382,\n",
              "        0.95614781, 0.25912763, 0.60146779, 0.38805004, 0.77672789,\n",
              "        0.96450048, 0.27229251, 0.39047645, 0.17988371, 0.17869583,\n",
              "        0.61807331, 0.22632691, 0.83676234, 0.22704661, 0.96893003,\n",
              "        0.3973015 , 0.14697164, 0.23666649, 0.6161223 , 0.46837999,\n",
              "        0.66833187, 0.55028145, 0.72146349, 0.91537886, 0.62310156,\n",
              "        0.15251231, 0.10011612, 0.11267627, 0.12790408, 0.09270127,\n",
              "        0.96353426, 0.39665762, 0.05843581, 0.98273511, 0.94263847,\n",
              "        0.55684413, 0.41047801, 0.8609352 , 0.48357289, 0.90971327,\n",
              "        0.91019806, 0.79996587, 0.17254705, 0.04232868, 0.59376926,\n",
              "        0.72356836, 0.23534566, 0.50838208, 0.90805154, 0.92319624,\n",
              "        0.2768228 , 0.74061369, 0.30940025, 0.93546593, 0.02603842,\n",
              "        0.77350474, 0.59011475, 0.02419179, 0.60973192, 0.52502166,\n",
              "        0.13907795, 0.12910814, 0.72721877, 0.04192555, 0.94444085,\n",
              "        0.8582671 , 0.17187556, 0.33929603, 0.41401051, 0.3877747 ,\n",
              "        0.42800786, 0.04870037, 0.66238885, 0.92364364, 0.73513961,\n",
              "        0.0309461 , 0.83269079, 0.93364005, 0.05340833, 0.06284504,\n",
              "        0.50351678, 0.49120216, 0.63195654, 0.20822394, 0.24270833,\n",
              "        0.27299463, 0.13075665, 0.27055873, 0.70461983, 0.8433023 ,\n",
              "        0.92177007, 0.12745254, 0.83716482, 0.79621771, 0.72376316,\n",
              "        0.68898624, 0.40425276, 0.21252518, 0.19723756, 0.34259383,\n",
              "        0.05789378, 0.32809459, 0.8823491 , 0.61276844, 0.63877576,\n",
              "        0.74225757, 0.61703537, 0.12617525, 0.68776026, 0.90637478,\n",
              "        0.99298503, 0.37127929, 0.75752842, 0.86523948, 0.51903447,\n",
              "        0.05913442, 0.99753512, 0.81165983, 0.68189799, 0.24471044,\n",
              "        0.86280339, 0.37129235, 0.10369253, 0.16208314, 0.72670252,\n",
              "        0.07670766, 0.41526586, 0.32109335, 0.69317551, 0.21043372,\n",
              "        0.40202981, 0.93474363, 0.72003879, 0.12920085, 0.74745054,\n",
              "        0.16905523, 0.40457683, 0.49595752, 0.49902308, 0.69608766,\n",
              "        0.36627682, 0.27293737, 0.37904081, 0.22831881, 0.20468597,\n",
              "        0.71503044, 0.65603349, 0.93808585, 0.94955557, 0.65222056,\n",
              "        0.50478298, 0.8275747 , 0.4755507 , 0.45555052, 0.10738371,\n",
              "        0.84275261, 0.39984955, 0.50194611, 0.27229159, 0.58690115,\n",
              "        0.30141126, 0.8252077 , 0.0651516 , 0.22642015, 0.0839318 ,\n",
              "        0.5881017 , 0.16572415, 0.25727102, 0.82123357, 0.02015523,\n",
              "        0.93718322, 0.44945195, 0.28344266, 0.84376209, 0.33902269,\n",
              "        0.41928151, 0.09397489, 0.22118107, 0.62599487, 0.04763498,\n",
              "        0.45254941, 0.47507476, 0.34795635, 0.66933758, 0.93363812,\n",
              "        0.45015675, 0.46798466, 0.01387995, 0.85716788, 0.71162354,\n",
              "        0.19171191, 0.12875106, 0.16931561, 0.43951185, 0.49548593,\n",
              "        0.83486236, 0.16795191, 0.80672068, 0.3576187 , 0.79115486,\n",
              "        0.52085659, 0.28316943, 0.24556203, 0.32024625, 0.77800754,\n",
              "        0.04316626, 0.93726346, 0.05096748, 0.31993901, 0.41402102,\n",
              "        0.70612789, 0.22187942, 0.72019237, 0.36079075, 0.83794897,\n",
              "        0.87019249, 0.22927721, 0.92416121, 0.38345229, 0.49317897,\n",
              "        0.33205435, 0.48197588, 0.34018341, 0.04524839, 0.67617604,\n",
              "        0.19865382, 0.60090014, 0.77707388, 0.88205128, 0.44072848,\n",
              "        0.60157186, 0.95580259, 0.1255914 , 0.47882992, 0.43024498,\n",
              "        0.60516128, 0.31794004, 0.88003771, 0.59862772, 0.53501596,\n",
              "        0.66920156, 0.50491641, 0.76110414, 0.0668469 , 0.36135958,\n",
              "        0.10014398, 0.33622944, 0.9558994 , 0.94871081, 0.07248256,\n",
              "        0.26401221, 0.08816985, 0.95718299, 0.68289146, 0.91489405,\n",
              "        0.49798727, 0.4418034 , 0.42463914, 0.43973377, 0.204276  ,\n",
              "        0.01152565, 0.71450457, 0.1363366 , 0.83091923, 0.06641204,\n",
              "        0.46861461, 0.44814141, 0.75868536, 0.66622183, 0.5258399 ,\n",
              "        0.28608929, 0.79674931, 0.49348926, 0.03715549, 0.78813265,\n",
              "        0.12797319, 0.31770295, 0.86961909, 0.40355142, 0.95148602,\n",
              "        0.29777363, 0.99121897, 0.49319674, 0.72106116, 0.59568935,\n",
              "        0.23115227, 0.9696725 , 0.45021056, 0.43098904, 0.23340334,\n",
              "        0.09782773, 0.04998314, 0.58614987, 0.92469891, 0.2528616 ,\n",
              "        0.21295206, 0.68474614, 0.59758381, 0.36285696, 0.0410824 ,\n",
              "        0.73934859, 0.94604143, 0.55464049, 0.23601388, 0.97045194,\n",
              "        0.87915253, 0.53491995, 0.5062253 , 0.5330898 , 0.20506345,\n",
              "        0.9458553 , 0.44185516, 0.81040819, 0.86292924, 0.93780554,\n",
              "        0.02629441, 0.18215119, 0.69367624, 0.25430653, 0.25403937,\n",
              "        0.64594902, 0.49825981, 0.10541114, 0.93534805, 0.68460926,\n",
              "        0.52394747, 0.89123812, 0.8139499 , 0.18024012, 0.91324995,\n",
              "        0.88457616, 0.40840629, 0.38950938, 0.17138951, 0.52644019,\n",
              "        0.38393427, 0.41405289, 0.60281464, 0.77391785, 0.35627809,\n",
              "        0.81783593, 0.25268905, 0.5974286 , 0.1193847 , 0.46974804,\n",
              "        0.30467434, 0.49936661, 0.50250019, 0.78857814, 0.68705571,\n",
              "        0.27191422, 0.91575478, 0.17408761, 0.77442193, 0.3083928 ,\n",
              "        0.67959931, 0.2170846 , 0.90721565, 0.18050188, 0.29696149,\n",
              "        0.64831727, 0.24118717, 0.27914146, 0.98765884, 0.58968738,\n",
              "        0.27043025, 0.99346371, 0.9366496 , 0.49833363, 0.61623303,\n",
              "        0.22791195, 0.73081429, 0.02180667, 0.12049125, 0.80482464,\n",
              "        0.06656315, 0.83138292, 0.23802186, 0.36034217, 0.17086847,\n",
              "        0.81797525, 0.0774112 , 0.11674758, 0.91783857, 0.86305801,\n",
              "        0.67360555, 0.35155787, 0.24246676, 0.84251533, 0.01156148,\n",
              "        0.01641784, 0.90402016, 0.40711282, 0.01580836, 0.12008559,\n",
              "        0.30910132, 0.34245958, 0.89461849, 0.50970168, 0.44337522,\n",
              "        0.82973773, 0.65877722, 0.69710091, 0.69704935, 0.58752679,\n",
              "        0.49021661, 0.45525638, 0.7789835 , 0.87852091, 0.6150465 ,\n",
              "        0.56473121, 0.23705859, 0.67328122, 0.76223809, 0.52006089,\n",
              "        0.31987798, 0.9964066 , 0.89936234, 0.54364857, 0.84415638,\n",
              "        0.05520679, 0.69714761, 0.4350437 , 0.46521084, 0.20902401,\n",
              "        0.27104456, 0.5674722 , 0.8178502 , 0.01438747, 0.539574  ,\n",
              "        0.91000095, 0.76324593, 0.05712732, 0.49517455, 0.28653362,\n",
              "        0.54506881, 0.60684538, 0.20916654, 0.03878257, 0.10113076,\n",
              "        0.06589423, 0.36767341, 0.63856587, 0.29786594, 0.39242388,\n",
              "        0.15626091, 0.51566726, 0.1785792 , 0.63277489, 0.91299726,\n",
              "        0.45948718, 0.95024853, 0.03611761, 0.56356323, 0.40338611,\n",
              "        0.47255113, 0.35714484, 0.0043737 , 0.16783875, 0.01784816,\n",
              "        0.4061633 , 0.7527847 , 0.81509516, 0.25055066, 0.20942158,\n",
              "        0.88618102, 0.3357043 , 0.48947988, 0.0271769 , 0.33981272,\n",
              "        0.85556947, 0.83736008, 0.45220891, 0.56912762, 0.57737615,\n",
              "        0.85430908, 0.29759608, 0.03918106, 0.35272099, 0.2156243 ,\n",
              "        0.39298197, 0.30714118, 0.47891795, 0.72267778, 0.23800598,\n",
              "        0.628759  , 0.83405841, 0.20546921, 0.02100168, 0.45967749,\n",
              "        0.52300779, 0.57991363, 0.63230847, 0.04531236, 0.59517866,\n",
              "        0.79257258, 0.68512311, 0.18387229, 0.72461941, 0.10233659,\n",
              "        0.36549199, 0.14433904, 0.75419495, 0.37298447, 0.75918808,\n",
              "        0.16645508, 0.27969805, 0.33028607, 0.80479567, 0.49431249,\n",
              "        0.1752732 , 0.70683359, 0.77242238, 0.94768007, 0.3078031 ,\n",
              "        0.6952452 , 0.53824197, 0.63945988, 0.65373932, 0.99256576,\n",
              "        0.17719411, 0.76936248, 0.52281467, 0.99477746, 0.62105249,\n",
              "        0.91320848, 0.54190592, 0.09735913, 0.64852704, 0.28811323,\n",
              "        0.97171071, 0.48327171, 0.93581464, 0.44656704, 0.6777077 ,\n",
              "        0.37811848, 0.11383148, 0.08246864, 0.70853668, 0.47382738,\n",
              "        0.59685023, 0.00380974, 0.16752646, 0.79902143, 0.43725671,\n",
              "        0.82722102, 0.81632413, 0.08248288, 0.439068  , 0.77893606,\n",
              "        0.07541937, 0.71626871, 0.18034408, 0.76410548, 0.02490832,\n",
              "        0.61840458, 0.86715122, 0.03771119, 0.20489272, 0.33433519,\n",
              "        0.18997098, 0.82077652, 0.12890043, 0.78486124, 0.11213572,\n",
              "        0.21997467, 0.58243239, 0.04947372, 0.22183617, 0.74134989,\n",
              "        0.61709891, 0.17987002, 0.49639782, 0.64643875, 0.70298112,\n",
              "        0.00308742, 0.24687951, 0.86757242, 0.0124259 , 0.61957945,\n",
              "        0.17483783, 0.59150508, 0.2936524 , 0.33750251, 0.96409272,\n",
              "        0.59184872, 0.11885069, 0.49785649, 0.71640631, 0.74709079,\n",
              "        0.72329258, 0.9468315 , 0.58185625, 0.47221904, 0.36872022,\n",
              "        0.29699059, 0.14520047, 0.25263684, 0.67060576, 0.85140599,\n",
              "        0.70299894, 0.70689888, 0.88264956, 0.25680838, 0.93227222,\n",
              "        0.18388089, 0.20512062, 0.99166865, 0.81910056, 0.05888639,\n",
              "        0.94394207, 0.77085609, 0.7819979 , 0.06061725, 0.6829073 ,\n",
              "        0.91549018, 0.45815652, 0.58265705, 0.06653278, 0.95886512,\n",
              "        0.26120079, 0.95068526, 0.53364721, 0.79689591, 0.25961979,\n",
              "        0.11401006, 0.57797954, 0.24029036, 0.86895064, 0.00723563,\n",
              "        0.90241117, 0.67406442, 0.46305037, 0.39718898, 0.83082155,\n",
              "        0.96565365, 0.86970541, 0.74350415, 0.69872384, 0.1200635 ,\n",
              "        0.83949534, 0.92342199, 0.41802616, 0.91647287, 0.67602024,\n",
              "        0.41985655, 0.88456568, 0.45732427, 0.09409463, 0.32599572,\n",
              "        0.39892929, 0.35290427, 0.85673705, 0.6231894 , 0.71814365,\n",
              "        0.74402062, 0.02312092, 0.60606472, 0.87475754, 0.42692954,\n",
              "        0.49394931, 0.43622925, 0.7645818 , 0.17854403, 0.89069319,\n",
              "        0.03457586, 0.07749582, 0.26500987, 0.91624039, 0.29068273,\n",
              "        0.07370418, 0.84937168, 0.1757909 , 0.25336045, 0.49986653,\n",
              "        0.0336481 , 0.14430031, 0.64738467, 0.33308837, 0.6261477 ,\n",
              "        0.47815259, 0.82757686, 0.37364118, 0.11513015, 0.0084359 ,\n",
              "        0.35664314, 0.27690423, 0.70814155, 0.5981935 , 0.78796303,\n",
              "        0.65429142, 0.77774834, 0.86952079, 0.00969022, 0.80688057,\n",
              "        0.48903913, 0.16429241, 0.7679713 , 0.98204478, 0.76504252,\n",
              "        0.35191146, 0.97022526, 0.08767859, 0.18672278, 0.32804431,\n",
              "        0.04086572, 0.70559093, 0.24384872, 0.31367726, 0.56675143,\n",
              "        0.97471861, 0.26656202, 0.86816784, 0.36307402, 0.14729611,\n",
              "        0.98821265, 0.92399203, 0.97757114, 0.67835485, 0.41363541,\n",
              "        0.92519531, 0.50360546, 0.7967156 , 0.77748413, 0.26132745,\n",
              "        0.85552522, 0.51085419, 0.80997549, 0.03595379, 0.21677923,\n",
              "        0.05449277, 0.7629621 , 0.61908756, 0.27508811, 0.1800059 ,\n",
              "        0.48773272, 0.48686429, 0.19208544, 0.09392916, 0.31692293,\n",
              "        0.74733891, 0.02228654, 0.20262892, 0.87440713, 0.5838974 ,\n",
              "        0.89033541, 0.30453176, 0.05724321, 0.40184634, 0.5072349 ,\n",
              "        0.66701143, 0.99135103, 0.4523947 , 0.21529083, 0.91727899,\n",
              "        0.7602881 , 0.75357213, 0.81998083, 0.47921214, 0.41950593,\n",
              "        0.28580759, 0.13938594, 0.93945065, 0.8297449 , 0.8292816 ,\n",
              "        0.92088853, 0.25875573, 0.32103021, 0.29987293, 0.5246232 ,\n",
              "        0.8318288 , 0.51966589, 0.68253677, 0.22989477, 0.16104057,\n",
              "        0.11976508, 0.57673477, 0.82477755, 0.86134459, 0.74866792,\n",
              "        0.6120718 , 0.97999185, 0.20294497, 0.15450193, 0.90367567,\n",
              "        0.57502215, 0.25921879, 0.32466906, 0.52338726, 0.84329836,\n",
              "        0.73318884, 0.76678874, 0.33088591, 0.49102529, 0.65942959,\n",
              "        0.05505196, 0.61976312, 0.65530791, 0.56053673, 0.90287874,\n",
              "        0.25047439, 0.9420386 , 0.30057743, 0.20940982, 0.70707562,\n",
              "        0.11905152, 0.89723772, 0.58631592, 0.48041477, 0.85785385,\n",
              "        0.54360018, 0.82393811, 0.57431377, 0.1313249 , 0.67811536,\n",
              "        0.99318531, 0.20764622, 0.01253539, 0.10130224, 0.56522438,\n",
              "        0.24713782, 0.83890369, 0.76754889, 0.62200737, 0.34911155,\n",
              "        0.69861406, 0.92630599, 0.22421145, 0.16177548, 0.85870895,\n",
              "        0.52697973, 0.31817615, 0.4365173 , 0.31612774, 0.31555319,\n",
              "        0.12872704, 0.40314707, 0.9692482 , 0.02495332, 0.44959382,\n",
              "        0.36017246, 0.16115824, 0.18445214, 0.98840695, 0.45999066,\n",
              "        0.67697748, 0.40689512, 0.88425841, 0.60146298, 0.7376856 ,\n",
              "        0.41830305, 0.99161924, 0.85079783, 0.39579295, 0.50850265,\n",
              "        0.69069933, 0.49286831, 0.26474976, 0.36808393, 0.44889195,\n",
              "        0.50312656, 0.02653092, 0.06300629, 0.15009342, 0.03635946,\n",
              "        0.64371098, 0.27281921, 0.73828254, 0.94466266, 0.10942072,\n",
              "        0.12084178, 0.77759063, 0.1328525 , 0.87791552, 0.59474714,\n",
              "        0.30577068, 0.54761171, 0.55434367, 0.24657543, 0.39879677,\n",
              "        0.03417147, 0.32344667, 0.82826774, 0.6737801 , 0.24208392,\n",
              "        0.46651354, 0.26267235, 0.42737484, 0.52059249, 0.55354823]),\n",
              " array([0.88105294, 0.85231273, 0.76517161, ..., 0.28867896, 0.41156377,\n",
              "        0.83843856]),\n",
              " array([0.79035211, 0.09438825, 0.40213958, ..., 0.6691089 , 0.70002119,\n",
              "        0.65818997]),\n",
              " array([0.24380942, 0.12582553, 0.27092285, ..., 0.77235285, 0.45696238,\n",
              "        0.19267963]),\n",
              " array([0.91116303, 0.6946741 , 0.05224049, ..., 0.33069289, 0.14600977,\n",
              "        0.66655502]),\n",
              " array([0.50312547, 0.5264759 , 0.33973362, ..., 0.14644639, 0.99325148,\n",
              "        0.50044147])]"
            ]
          },
          "metadata": {},
          "execution_count": 70
        }
      ]
    },
    {
      "cell_type": "code",
      "source": [
        "minlist =  [np.min(array) for array in randomlist]\n",
        "minlist"
      ],
      "metadata": {
        "colab": {
          "base_uri": "https://localhost:8080/"
        },
        "id": "2CV2Qehub_q_",
        "outputId": "c3fcbb18-0f82-4222-cb9a-1d883e5eaf98"
      },
      "execution_count": 74,
      "outputs": [
        {
          "output_type": "execute_result",
          "data": {
            "text/plain": [
              "[0.03084823089410349,\n",
              " 0.012311341030327938,\n",
              " 0.0030874179868727314,\n",
              " 0.00018292825808008395,\n",
              " 3.2224153175830494e-06,\n",
              " 3.3307017088812785e-07,\n",
              " 9.491424157737072e-08,\n",
              " 3.915371027396475e-09]"
            ]
          },
          "metadata": {},
          "execution_count": 74
        }
      ]
    },
    {
      "cell_type": "code",
      "source": [
        "plt.plot(nlist, minlist, marker='o', linestyle='-')\n",
        "plt.xscale('log')  # Since nlist is exponential, using a log scale can make the plot more readable\n",
        "plt.xlabel('n')\n",
        "plt.ylabel('Minimum Value')\n",
        "plt.title('Plot of n - Minimum Value')\n",
        "plt.show()\n"
      ],
      "metadata": {
        "colab": {
          "base_uri": "https://localhost:8080/",
          "height": 476
        },
        "id": "e8cvUKi1d3b_",
        "outputId": "ad8eb892-b49d-41fb-a144-178bfb445a03"
      },
      "execution_count": 81,
      "outputs": [
        {
          "output_type": "display_data",
          "data": {
            "text/plain": [
              "<Figure size 640x480 with 1 Axes>"
            ],
            "image/png": "[encoded data removed]"
          },
          "metadata": {}
        }
      ]
    },
    {
      "cell_type": "code",
      "source": [
        "log_min_values = np.log(minlist)\n",
        "\n",
        "plt.plot(nlist, log_min_values, marker='o', linestyle='-')\n",
        "plt.xscale('log')  # Since nlist is exponential, using a log scale can make the plot more readable\n",
        "plt.xlabel('n')\n",
        "plt.ylabel('Log of Minimum Value')\n",
        "plt.title('Plot of n vs. Log of Minimum Value')\n",
        "plt.show()"
      ],
      "metadata": {
        "colab": {
          "base_uri": "https://localhost:8080/",
          "height": 476
        },
        "id": "EnU90LvzdoMP",
        "outputId": "10e92372-f237-4842-d164-f8e26420217a"
      },
      "execution_count": 83,
      "outputs": [
        {
          "output_type": "display_data",
          "data": {
            "text/plain": [
              "<Figure size 640x480 with 1 Axes>"
            ],
            "image/png": "[encoded data removed]"
          },
          "metadata": {}
        }
      ]
    },
    {
      "cell_type": "code",
      "source": [],
      "metadata": {
        "id": "DaH-fH3Eddvs"
      },
      "execution_count": null,
      "outputs": []
    },
    {
      "cell_type": "markdown",
      "source": [
        "(f) Are the results what you expected? and Why?"
      ],
      "metadata": {
        "id": "rCjgDwZ_eY-N"
      }
    },
    {
      "cell_type": "markdown",
      "source": [
        "The result shows that as the size of the array('n) increases, the min-value generally decreases(the logarithm shows it more clearly). This is the same with my expectation.\n",
        "From a probabilistic perspective, as the size of the array('n') inreases, there are more opportunities to traw a smaller value, (because there are more numbers.) and this makes it more likely that I'll have a very small value, which is close to 0.\n",
        "Also, the random numbers from `rng.random()` come from a uniform distribution in the interval zero to one. Therefore, every number in this range has an equal chance of being picked. When picking only a few numbers, the chance of getting a number very close to 0 is small. But when picking a larger number of random values, the probability of getting a number extremely close to 0 increases.\n",
        "\n",
        "So, as generate larger arrays of random numbers, then more likely to encounter smaller minimum values, and this trend is accentuated when plotting the logarithm of these values."
      ],
      "metadata": {
        "id": "eVXx1d6WedCQ"
      }
    },
    {
      "cell_type": "code",
      "source": [],
      "metadata": {
        "id": "-FZf3SZIf1a5"
      },
      "execution_count": null,
      "outputs": []
    }
  ],
  "metadata": {
    "kernelspec": {
      "display_name": "Python 3 (ipykernel)",
      "language": "python",
      "name": "python3"
    },
    "language_info": {
      "codemirror_mode": {
        "name": "ipython",
        "version": 3
      },
      "file_extension": ".py",
      "mimetype": "text/x-python",
      "name": "python",
      "nbconvert_exporter": "python",
      "pygments_lexer": "ipython3",
      "version": "3.11.4"
    },
    "colab": {
      "provenance": [],
      "include_colab_link": true
    }
  },
  "nbformat": 4,
  "nbformat_minor": 0
}