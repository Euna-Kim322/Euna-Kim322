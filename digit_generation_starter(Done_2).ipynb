{
  "cells": [
    {
      "cell_type": "markdown",
      "metadata": {
        "id": "view-in-github",
        "colab_type": "text"
      },
      "source": [
        "<a href=\"https://colab.research.google.com/github/Euna-Kim322/Euna-Kim322/blob/main/digit_generation_starter(Done_2).ipynb\" target=\"_parent\"><img src=\"https://colab.research.google.com/assets/colab-badge.svg\" alt=\"Open In Colab\"/></a>"
      ]
    },
    {
      "cell_type": "code",
      "source": [],
      "metadata": {
        "id": "F-pYdnsqS-Ok"
      },
      "execution_count": null,
      "outputs": []
    },
    {
      "cell_type": "markdown",
      "source": [
        "## <font color=\"blue\"> 1. Introduce yourself to your other group members. </font>\n",
        "\n",
        "###### a) Who/where is the group member who is physically furthest from Engineering Hall on UW’s campus?\n",
        "###### b) Who/where is the group member that is physically closest to Engineering Hall?"
      ],
      "metadata": {
        "id": "XBHbleV-TAaV"
      }
    },
    {
      "cell_type": "markdown",
      "source": [
        "1. a) Matt(collage court), b) Grace Kim(near Hilldale mall)"
      ],
      "metadata": {
        "id": "ete5xV5NTPvv"
      }
    },
    {
      "cell_type": "markdown",
      "source": [
        "## <font color=\"blue\"> 2 . Set up your numerical computing environment. : Done </font>\n",
        "##\n",
        "Jupyter Notebooks are an open-source web application that allows you to execute scripts and\n",
        "view results and plots in a browser. We will rely on both Python and Jupyter notebooks\n",
        "extensively in this course.\n",
        "There are several options for getting up and running:\n",
        "1.  Install Python and Jupyter on your laptop. This is the preferable approach, but takes\n",
        "more effort.\n",
        "2. Use the Computer Aided Engineering (CAE) Jupyter setup (the link can be found on\n",
        "the course website).\n",
        "3. Use a cloud/web environment such as Google Colabs.\n",
        "If your environment is setup, help your other group members."
      ],
      "metadata": {
        "id": "Ri7zAt7rTkGs"
      }
    },
    {
      "cell_type": "markdown",
      "source": [
        "## <font color = 'blue'> 3. Download and run the included notebook.</font>\n",
        "##### <font color = 'blue'> a) What digit is represented by the matrix in the first cell? </font>\n",
        "\n",
        "##### It seems like a visual representation of the digit \"7\" to me."
      ],
      "metadata": {
        "id": "qTH_JiOZUNC1"
      }
    },
    {
      "cell_type": "code",
      "execution_count": null,
      "metadata": {
        "colab": {
          "base_uri": "https://localhost:8080/",
          "height": 406
        },
        "id": "zkUjRtEc9sxU",
        "outputId": "910bcd21-5f4d-407f-b0fb-9cd3070786de"
      },
      "outputs": [
        {
          "output_type": "display_data",
          "data": {
            "text/plain": [
              "<Figure size 640x480 with 1 Axes>"
            ],
            "image/png": "[encoded data removed]"
          },
          "metadata": {}
        }
      ],
      "source": [
        "import numpy as np\n",
        "import matplotlib.pyplot as plt\n",
        "\n",
        "# create a matrix to represent a drawing of '7'\n",
        "x = np.zeros((8,8))\n",
        "x[2,3:6] = 1\n",
        "x[3,5] = 1\n",
        "x[4:6,4] = 1\n",
        "\n",
        "# display image\n",
        "plt.imshow(np.round(x,0), cmap='gray_r'), plt.axis('off')\n",
        "plt.show()"
      ]
    },
    {
      "cell_type": "code",
      "source": [
        "# What digit is represented by the matrix in the first cell?\n",
        "# 7"
      ],
      "metadata": {
        "id": "VW8ROMFdAYde"
      },
      "execution_count": null,
      "outputs": []
    },
    {
      "cell_type": "code",
      "execution_count": null,
      "metadata": {
        "colab": {
          "base_uri": "https://localhost:8080/"
        },
        "id": "mUFg8Flu9sxX",
        "outputId": "a493c1d8-7186-4734-a368-a77a43b724e2"
      },
      "outputs": [
        {
          "output_type": "stream",
          "name": "stdout",
          "text": [
            "my random number: \n",
            " [1.]\n"
          ]
        }
      ],
      "source": [
        "# generate a random 0 or 1\n",
        "x = np.round(np.random.rand(1))\n",
        "print('my random number: \\n', x)"
      ]
    },
    {
      "cell_type": "markdown",
      "source": [
        "##### <font color = 'blue'> b) Re-run the last cell a few times, and observe the resulting image. Does it represent a handwritten digit?\n",
        "\n",
        "##### No, they don't seem like handwritten digits after several attempts."
      ],
      "metadata": {
        "id": "gLR3FgcyUWB6"
      }
    },
    {
      "cell_type": "code",
      "execution_count": null,
      "metadata": {
        "colab": {
          "base_uri": "https://localhost:8080/",
          "height": 568
        },
        "id": "9rdHoWwL9sxY",
        "outputId": "25fe056b-acf6-4960-a97c-62ae16e7c1f6"
      },
      "outputs": [
        {
          "output_type": "stream",
          "name": "stdout",
          "text": [
            "my random matrix: \n",
            " [[1. 0. 0. 1. 1. 0. 1. 0.]\n",
            " [1. 0. 0. 0. 0. 1. 1. 1.]\n",
            " [1. 0. 0. 1. 0. 1. 1. 1.]\n",
            " [1. 0. 0. 0. 0. 1. 0. 1.]\n",
            " [1. 0. 0. 1. 1. 1. 0. 1.]\n",
            " [1. 1. 1. 1. 1. 1. 1. 1.]\n",
            " [1. 0. 1. 1. 1. 1. 1. 1.]\n",
            " [0. 1. 0. 0. 1. 1. 1. 0.]]\n"
          ]
        },
        {
          "output_type": "display_data",
          "data": {
            "text/plain": [
              "<Figure size 640x480 with 1 Axes>"
            ],
            "image/png": "[encoded data removed]"
          },
          "metadata": {}
        }
      ],
      "source": [
        "# generate a random 8x8 matrix\n",
        "x = np.round(np.random.rand(8,8))\n",
        "print('my random matrix: \\n', x)\n",
        "\n",
        "# display the matrix as an image\n",
        "plt.imshow(x, cmap='gray_r'), plt.axis('off')\n",
        "plt.show()"
      ]
    },
    {
      "cell_type": "markdown",
      "source": [
        "<font color = 'blue'> c) How would you write a program that generates images that do represent random hand-\n",
        "written digits? Note that there is not a single answer, and we will spend a lot of the\n",
        "course thinking about this question.\n",
        "\n",
        "\n"
      ],
      "metadata": {
        "id": "JZnZm8leUbvh"
      }
    },
    {
      "cell_type": "code",
      "source": [
        "# 1. Predefined Image Mapping : We can create or choose a predefined handwritten digit images for each number and map each other.\n",
        "#.   But it has limatiation that it has limited diversity.\n",
        "# 2. Collecting a big dataset : Because we have all different handwritings,\n",
        "#    we can collect a big dataset and generate(show) randomly sample from dataset for much more variability and authenticity compared to the above.\n",
        "# 3. Procedural Generation with Specific Rules : We can set and design a programmatic way to draw digits using sepcific rules that are characteristic of each digit.\n",
        "#.   For the '0', we could have a rule to draw an vertical ellipse. But it could be quite complicated complex. Also, the results might not be as authentic as real handwritten data.\n",
        "#.   Even if it is not a \"vertical\" ellipse, but just a 'horizontal' ellipse or a circle, we can still recognize them as '0'\n",
        "# 4. Using Deep Learning, Generative Models : We already know that GANs or VAEs trained on handwritten digit datasets to generate new, synthetic handwritten digits using Deep Learning.\n",
        "#    This provides a good balance between authenticity and variability, as the model learns the underlying patterns and variability of handwritten digits, also it can generate new samples that weren't in the original dataset."
      ],
      "metadata": {
        "id": "xre-naOsBGd-"
      },
      "execution_count": null,
      "outputs": []
    }
  ],
  "metadata": {
    "kernelspec": {
      "display_name": "Python 3 (ipykernel)",
      "language": "python",
      "name": "python3"
    },
    "language_info": {
      "codemirror_mode": {
        "name": "ipython",
        "version": 3
      },
      "file_extension": ".py",
      "mimetype": "text/x-python",
      "name": "python",
      "nbconvert_exporter": "python",
      "pygments_lexer": "ipython3",
      "version": "3.11.4"
    },
    "colab": {
      "provenance": [],
      "include_colab_link": true
    }
  },
  "nbformat": 4,
  "nbformat_minor": 0
}