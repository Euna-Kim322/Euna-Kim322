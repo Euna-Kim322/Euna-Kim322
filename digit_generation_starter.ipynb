{
  "cells": [
    {
      "cell_type": "markdown",
      "metadata": {
        "id": "view-in-github",
        "colab_type": "text"
      },
      "source": [
        "<a href=\"https://colab.research.google.com/github/Euna-Kim322/Euna-Kim322/blob/main/digit_generation_starter.ipynb\" target=\"_parent\"><img src=\"https://colab.research.google.com/assets/colab-badge.svg\" alt=\"Open In Colab\"/></a>"
      ]
    },
    {
      "cell_type": "code",
      "source": [
        "Matt(collage court), Grace Kim(near Hilldale mall)"
      ],
      "metadata": {
        "id": "-ypOoBdB-9cq"
      },
      "execution_count": null,
      "outputs": []
    },
    {
      "cell_type": "code",
      "execution_count": 13,
      "metadata": {
        "colab": {
          "base_uri": "https://localhost:8080/",
          "height": 406
        },
        "id": "zkUjRtEc9sxU",
        "outputId": "910bcd21-5f4d-407f-b0fb-9cd3070786de"
      },
      "outputs": [
        {
          "output_type": "display_data",
          "data": {
            "text/plain": [
              "<Figure size 640x480 with 1 Axes>"
            ],
            "image/png": "[encoded data removed]"
          },
          "metadata": {}
        }
      ],
      "source": [
        "import numpy as np\n",
        "import matplotlib.pyplot as plt\n",
        "\n",
        "# create a matrix to represent a drawing of '7'\n",
        "x = np.zeros((8,8))\n",
        "x[2,3:6] = 1\n",
        "x[3,5] = 1\n",
        "x[4:6,4] = 1\n",
        "\n",
        "# display image\n",
        "plt.imshow(np.round(x,0), cmap='gray_r'), plt.axis('off')\n",
        "plt.show()"
      ]
    },
    {
      "cell_type": "code",
      "source": [
        "# What digit is represented by the matrix in the first cell?\n",
        "# 7"
      ],
      "metadata": {
        "id": "VW8ROMFdAYde"
      },
      "execution_count": 14,
      "outputs": []
    },
    {
      "cell_type": "code",
      "execution_count": null,
      "metadata": {
        "colab": {
          "base_uri": "https://localhost:8080/"
        },
        "id": "mUFg8Flu9sxX",
        "outputId": "a493c1d8-7186-4734-a368-a77a43b724e2"
      },
      "outputs": [
        {
          "output_type": "stream",
          "name": "stdout",
          "text": [
            "my random number: \n",
            " [1.]\n"
          ]
        }
      ],
      "source": [
        "# generate a random 0 or 1\n",
        "x = np.round(np.random.rand(1))\n",
        "print('my random number: \\n', x)"
      ]
    },
    {
      "cell_type": "code",
      "source": [
        "# Re-run the last cell a few times, and observe the resulting image. Does it represent a handwritten digit?\n",
        "# No, they don't seem  handwritten digits for several times."
      ],
      "metadata": {
        "id": "oLOzre_GAXWl"
      },
      "execution_count": null,
      "outputs": []
    },
    {
      "cell_type": "code",
      "execution_count": 16,
      "metadata": {
        "colab": {
          "base_uri": "https://localhost:8080/",
          "height": 568
        },
        "id": "9rdHoWwL9sxY",
        "outputId": "25fe056b-acf6-4960-a97c-62ae16e7c1f6"
      },
      "outputs": [
        {
          "output_type": "stream",
          "name": "stdout",
          "text": [
            "my random matrix: \n",
            " [[1. 0. 0. 1. 1. 0. 1. 0.]\n",
            " [1. 0. 0. 0. 0. 1. 1. 1.]\n",
            " [1. 0. 0. 1. 0. 1. 1. 1.]\n",
            " [1. 0. 0. 0. 0. 1. 0. 1.]\n",
            " [1. 0. 0. 1. 1. 1. 0. 1.]\n",
            " [1. 1. 1. 1. 1. 1. 1. 1.]\n",
            " [1. 0. 1. 1. 1. 1. 1. 1.]\n",
            " [0. 1. 0. 0. 1. 1. 1. 0.]]\n"
          ]
        },
        {
          "output_type": "display_data",
          "data": {
            "text/plain": [
              "<Figure size 640x480 with 1 Axes>"
            ],
            "image/png": "[encoded data removed]"
          },
          "metadata": {}
        }
      ],
      "source": [
        "# generate a random 8x8 matrix\n",
        "x = np.round(np.random.rand(8,8))\n",
        "print('my random matrix: \\n', x)\n",
        "\n",
        "# display the matrix as an image\n",
        "plt.imshow(x, cmap='gray_r'), plt.axis('off')\n",
        "plt.show()"
      ]
    },
    {
      "cell_type": "code",
      "execution_count": null,
      "metadata": {
        "id": "tJU7JIUa9sxZ"
      },
      "outputs": [],
      "source": [
        "# How would you write a program that generates images that do represent random hand-written digits?\n",
        "# Note that there is not a single answer, and we will spend a lot of the course thinking about this question."
      ]
    },
    {
      "cell_type": "code",
      "source": [
        "# 1. First, we can map just one image we set to each digit(number)\n",
        "# 2. Second, because everyone's handwriting is different, so we can collect many of handwriting data and save, map them to each digit.\n",
        "# 3. Third, we can set some rules for each digits, but it could be quite complicated.\n",
        "# 4. Finally, there could be ambiquity for the result 2,3,"
      ],
      "metadata": {
        "id": "xre-naOsBGd-"
      },
      "execution_count": null,
      "outputs": []
    }
  ],
  "metadata": {
    "kernelspec": {
      "display_name": "Python 3 (ipykernel)",
      "language": "python",
      "name": "python3"
    },
    "language_info": {
      "codemirror_mode": {
        "name": "ipython",
        "version": 3
      },
      "file_extension": ".py",
      "mimetype": "text/x-python",
      "name": "python",
      "nbconvert_exporter": "python",
      "pygments_lexer": "ipython3",
      "version": "3.11.4"
    },
    "colab": {
      "provenance": [],
      "include_colab_link": true
    }
  },
  "nbformat": 4,
  "nbformat_minor": 0
}