{
 "cells": [
  {
   "cell_type": "code",
   "execution_count": 1,
   "id": "f0ff0b16-8520-4b34-aafc-0029e74887b8",
   "metadata": {},
   "outputs": [],
   "source": [
    "# project : p1\n",
    "# submitter : ekim322@wisc.edu\n",
    "# partner : none\n",
    "# hours : 4"
   ]
  },
  {
   "cell_type": "markdown",
   "id": "ed13b4ef-5614-4de5-97e9-bee4fb77f95b",
   "metadata": {},
   "source": [
    "### overview and objectives:\n",
    "##### multiply tensors\n",
    "##### use GPUs (when available)\n",
    "##### optimize inputs to minimize outputs\n",
    "##### use optimization to optimize regression coefficients"
   ]
  },
  {
   "cell_type": "markdown",
   "id": "c7a5d7e0-3ac2-400e-bb9f-c22c91174196",
   "metadata": {},
   "source": [
    "# Part 1: Prediction with Hardcoded Model"
   ]
  },
  {
   "cell_type": "code",
   "execution_count": 2,
   "id": "95dae3b7-ff96-4693-b1a8-40566d1c928e",
   "metadata": {},
   "outputs": [],
   "source": [
    "import pandas as pd\n",
    "import numpy as np\n",
    "import torch\n",
    "import matplotlib.pyplot as plt\n",
    "import time\n",
    "\n",
    "train_csv = pd.read_csv(\"train.csv\")\n",
    "test_csv = pd.read_csv(\"test.csv\")\n",
    "\n",
    "train = torch.tensor(train_csv.values, dtype = torch.float64)  # torch.Size([348, 11]) //pandas.core.frame.Dataframe\n",
    "test = torch.tensor(test_csv.values, dtype = torch.float64) #  torch.Size([1044, 11])\n",
    "\n",
    "#print(test.shape, train.shape)"
   ]
  },
  {
   "cell_type": "code",
   "execution_count": 3,
   "id": "c9ff5401-4c19-4d57-bfbf-718206ad5fd3",
   "metadata": {},
   "outputs": [
    {
     "name": "stdout",
     "output_type": "stream",
     "text": [
      "tensor([[ 24.,  51.,  44.,  ...,  61.,  27.,   0.],\n",
      "        [ 22.,  31., 214.,  ...,   9.,   0.,   0.],\n",
      "        [ 84., 126., 239.,  ...,  74.,  24.,   8.],\n",
      "        ...,\n",
      "        [268., 358., 277.,  ..., 107.,  47.,   7.],\n",
      "        [ 81., 116.,  90.,  ...,  36.,   9.,   0.],\n",
      "        [118., 156., 197.,  ...,  19.,   0.,   0.]], dtype=torch.float64)\n",
      "tensor([[3.],\n",
      "        [2.],\n",
      "        [9.],\n",
      "        ...,\n",
      "        [5.],\n",
      "        [2.],\n",
      "        [5.]], dtype=torch.float64)\n"
     ]
    }
   ],
   "source": [
    "# Requirement: your code should be written such that if torch.cuda.is_available() is true, \n",
    "# all your tensors (trainX, trainY, testX, testY, and coef) should be move to a GPU prior to any multiplication.\n",
    "\n",
    "# trainX : number of positive COVID tests per tract, by age group\n",
    "# trainY : number of positive COVID deaths per tract, by vertical, not 1 dim. ( n X 1 )\n",
    "\n",
    "trainX = train[:,:-1]\n",
    "trainY = train[:,-1:]\n",
    "testX = test[:,:-1]\n",
    "testY = test[:, -1:]\n",
    "\n",
    "if torch.cuda.is_available():\n",
    "    trainX = trainX.to('cuda')\n",
    "    trainY = trainY.to('cuda')\n",
    "    testX = testX.to('cuda')\n",
    "    testY = testY.to('cuda')\n",
    "        \n",
    "# type(ds_train).__mro__  # torch.utils.data.dataset.TensorDataset, torch.utils.data.dataset.Dataset, typing.Generic, object)\n",
    "#print(\"trainX \\n\", trainX,\"\\n trainY \\n\",trainY)\n",
    "#print(\"testX \\n\", testX,\"\\n testY \\n\",testY[:10]) # just print 10 rows, because of the space of the notebook. \n",
    "#print(\"size :\", trainX.shape, trainY.shape, testX.shape, testY.shape)\n",
    "#size : torch.Size([1044, 10]) torch.Size([1044, 1]) torch.Size([348, 10]) torch.Size([348, 1])\n",
    "\n",
    "print(trainX)\n",
    "print(trainY)"
   ]
  },
  {
   "cell_type": "code",
   "execution_count": 4,
   "id": "63310850-1c8a-45ad-b6dd-7791bbba864f",
   "metadata": {},
   "outputs": [
    {
     "data": {
      "text/plain": [
       "tensor([[0.0040],\n",
       "        [0.0040],\n",
       "        [0.0040],\n",
       "        [0.0040],\n",
       "        [0.0040],\n",
       "        [0.0040],\n",
       "        [0.0300],\n",
       "        [0.0300],\n",
       "        [0.0300],\n",
       "        [0.0300]], dtype=torch.float64)"
      ]
     },
     "execution_count": 4,
     "metadata": {},
     "output_type": "execute_result"
    }
   ],
   "source": [
    "# Let's predict the number of COVID deaths in the test dataset under the assumption that \n",
    "# the deathrate is 0.004 for those <60 and 0.03 for those >=60. \n",
    "# Encode these assumptions as coefficients in a tensor by pasting the following:\n",
    "    \n",
    "# Hardcoding version\n",
    "\n",
    "coef = torch.tensor([\n",
    "        [0.0040], # POS 0_09_CP\n",
    "        [0.0040],\n",
    "        [0.0040],\n",
    "        [0.0040],\n",
    "        [0.0040],\n",
    "        [0.0040], # POS_50_59_CP : 0.004 for <60\n",
    "        [0.0300], # POS_60_69_CP : 0.03 for >=60\n",
    "        [0.0300],\n",
    "        [0.0300],\n",
    "        [0.0300]  # POS_90 last one\n",
    "], dtype=testX.dtype)\n",
    "coef"
   ]
  },
  {
   "cell_type": "code",
   "execution_count": 5,
   "id": "37bbbd73-a58f-48d8-be0f-d4199712eae0",
   "metadata": {},
   "outputs": [
    {
     "data": {
      "text/plain": [
       "9.844"
      ]
     },
     "execution_count": 5,
     "metadata": {},
     "output_type": "execute_result"
    }
   ],
   "source": [
    "coef_item = (testX[0,:]@coef).item()\n",
    "coef_item"
   ]
  },
  {
   "cell_type": "markdown",
   "id": "b95e1d81-70ba-44a0-8151-3ae469ad8572",
   "metadata": {},
   "source": [
    "# Part 2:$R^2$ Score"
   ]
  },
  {
   "cell_type": "code",
   "execution_count": 6,
   "id": "cc856aee-5c5f-45f5-bc42-1d571e226a6e",
   "metadata": {},
   "outputs": [
    {
     "data": {
      "text/plain": [
       "tensor([[ 9.8440],\n",
       "        [13.8020],\n",
       "        [ 3.7380],\n",
       "        [ 3.6840],\n",
       "        [10.9300],\n",
       "        [14.7780],\n",
       "        [19.4280],\n",
       "        [ 6.1620],\n",
       "        [ 8.6640],\n",
       "        [13.9560]], dtype=torch.float64)"
      ]
     },
     "execution_count": 6,
     "metadata": {},
     "output_type": "execute_result"
    }
   ],
   "source": [
    "predictedY = testX@coef # check, multiplying all of testX by coef. \n",
    "predictedY[:10]\n",
    "\n",
    "# compare predictedY to the true values in testY \n",
    "# R2 score : how much variance is a y column a model can predict(with 1 being the best score)\n"
   ]
  },
  {
   "cell_type": "code",
   "execution_count": 7,
   "id": "80d39f69-d0b2-4eca-9d50-ad088af6c159",
   "metadata": {},
   "outputs": [
    {
     "name": "stdout",
     "output_type": "stream",
     "text": [
      "SStot : tensor(23463.0575, dtype=torch.float64)\n",
      "SSreg : tensor(13818.9189, dtype=torch.float64)\n",
      "improvement : tensor(9644.1386, dtype=torch.float64)\n",
      "R2_score : tensor(0.4110, dtype=torch.float64)\n"
     ]
    }
   ],
   "source": [
    "# SStot. To compute this, first compute the average testY value. \n",
    "#        Subtract to get the difference between each testY value and the average.\n",
    "#        Square the differences, then add the results to get SStot\n",
    "\n",
    "# SSreg : Subtract the prediction from testY\n",
    "\n",
    "avg_testY = testY.mean()\n",
    "SStot = ((testY - avg_testY)**2).sum()\n",
    "print(\"SStot :\", SStot)\n",
    "\n",
    "SSreg = ((testY - predictedY)**2).sum()  # SSreg will be much smaller than SStot. \n",
    "print(\"SSreg :\", SSreg)\n",
    "\n",
    "improvement = SStot - SSreg\n",
    "print(\"improvement :\", improvement)\n",
    "\n",
    "R2_score = improvement/SStot\n",
    "print(\"R2_score :\", R2_score)\n",
    "\n",
    "#Question, is it right approach?"
   ]
  },
  {
   "cell_type": "code",
   "execution_count": 8,
   "id": "4f138e39-8068-4a7e-b3d5-91e614bc321d",
   "metadata": {},
   "outputs": [],
   "source": [
    "def r2_score(true, predicted):\n",
    "    \"\"\" r2_score reuable\"\"\"\n",
    "    avg_true = true.mean()\n",
    "    SStot = ((true - avg_true)**2).sum()\n",
    "    SSreg = ((true - predicted)**2).sum()\n",
    "    improvement = SStot - SSreg\n",
    "    R2_score = improvement/SStot    \n",
    "    \n",
    "    return R2_score"
   ]
  },
  {
   "cell_type": "code",
   "execution_count": 9,
   "id": "744be99d-d7c3-4843-8aac-768101b8f79f",
   "metadata": {},
   "outputs": [
    {
     "data": {
      "text/plain": [
       "tensor(0.4110, dtype=torch.float64)"
      ]
     },
     "execution_count": 9,
     "metadata": {},
     "output_type": "execute_result"
    }
   ],
   "source": [
    "r2_score(testY, predictedY)"
   ]
  },
  {
   "cell_type": "markdown",
   "id": "0728398e-572a-4ed8-81e6-c5685e7adf77",
   "metadata": {},
   "source": [
    "# Part 3: Optimization"
   ]
  },
  {
   "cell_type": "code",
   "execution_count": 10,
   "id": "3afb4cb8-1bdc-4145-8f78-43480a0bc5b8",
   "metadata": {},
   "outputs": [
    {
     "data": {
      "text/plain": [
       "tensor(19., grad_fn=<AddBackward0>)"
      ]
     },
     "execution_count": 10,
     "metadata": {},
     "output_type": "execute_result"
    }
   ],
   "source": [
    "x = torch.tensor(0.0, requires_grad = True) # make us be able to track gradients, \n",
    "y = x**2 - 8*x + 19\n",
    "y"
   ]
  },
  {
   "cell_type": "code",
   "execution_count": 17,
   "id": "b46dcab1-fecc-479c-bc92-2044679f663f",
   "metadata": {},
   "outputs": [
    {
     "name": "stdout",
     "output_type": "stream",
     "text": [
      "tensor(3.9960, requires_grad=True) tensor(3.0000, grad_fn=<AddBackward0>)\n",
      "tensor(3.9968, requires_grad=True) tensor(3.0000, grad_fn=<AddBackward0>)\n",
      "tensor(3.9975, requires_grad=True) tensor(3.0000, grad_fn=<AddBackward0>)\n",
      "tensor(3.9980, requires_grad=True) tensor(3.0000, grad_fn=<AddBackward0>)\n",
      "tensor(3.9984, requires_grad=True) tensor(3.0000, grad_fn=<AddBackward0>)\n",
      "tensor(3.9987, requires_grad=True) tensor(3.0000, grad_fn=<AddBackward0>)\n",
      "tensor(3.9990, requires_grad=True) tensor(3.0000, grad_fn=<AddBackward0>)\n",
      "tensor(3.9992, requires_grad=True) tensor(3.0000, grad_fn=<AddBackward0>)\n",
      "tensor(3.9993, requires_grad=True) tensor(3.0000, grad_fn=<AddBackward0>)\n",
      "tensor(3.9995, requires_grad=True) tensor(3., grad_fn=<AddBackward0>)\n",
      "tensor(3.9996, requires_grad=True) tensor(3., grad_fn=<AddBackward0>)\n",
      "tensor(3.9997, requires_grad=True) tensor(3., grad_fn=<AddBackward0>)\n",
      "tensor(3.9997, requires_grad=True) tensor(3., grad_fn=<AddBackward0>)\n",
      "tensor(3.9998, requires_grad=True) tensor(3., grad_fn=<AddBackward0>)\n",
      "tensor(3.9998, requires_grad=True) tensor(3., grad_fn=<AddBackward0>)\n",
      "tensor(3.9999, requires_grad=True) tensor(3., grad_fn=<AddBackward0>)\n",
      "tensor(3.9999, requires_grad=True) tensor(3., grad_fn=<AddBackward0>)\n",
      "tensor(3.9999, requires_grad=True) tensor(3., grad_fn=<AddBackward0>)\n",
      "tensor(3.9999, requires_grad=True) tensor(3., grad_fn=<AddBackward0>)\n",
      "tensor(3.9999, requires_grad=True) tensor(3., grad_fn=<AddBackward0>)\n",
      "tensor(4.0000, requires_grad=True) tensor(3., grad_fn=<AddBackward0>)\n",
      "tensor(4.0000, requires_grad=True) tensor(3., grad_fn=<AddBackward0>)\n",
      "tensor(4.0000, requires_grad=True) tensor(3., grad_fn=<AddBackward0>)\n",
      "tensor(4.0000, requires_grad=True) tensor(3., grad_fn=<AddBackward0>)\n",
      "tensor(4.0000, requires_grad=True) tensor(3., grad_fn=<AddBackward0>)\n",
      "tensor(4.0000, requires_grad=True) tensor(3., grad_fn=<AddBackward0>)\n",
      "tensor(4.0000, requires_grad=True) tensor(3., grad_fn=<AddBackward0>)\n",
      "tensor(4.0000, requires_grad=True) tensor(3., grad_fn=<AddBackward0>)\n",
      "tensor(4.0000, requires_grad=True) tensor(3., grad_fn=<AddBackward0>)\n",
      "tensor(4.0000, requires_grad=True) tensor(3., grad_fn=<AddBackward0>)\n"
     ]
    }
   ],
   "source": [
    "# try to find a good x value. \n",
    "# The optimizer will run a loop where it computes y, \n",
    "# computes how a small change in x would effect y, \n",
    "# then makes a small change to x to try to make y smaller.\n",
    "\n",
    "optimizer = torch.optim.SGD([x], lr=0.1)  # one or more tensors // in this case,  to find best value for x\n",
    "\n",
    "x_line = []\n",
    "y_line = []\n",
    "for i in range(30):\n",
    "    optimizer.zero_grad()\n",
    "    y = x**2 - 8*x + 19\n",
    "    y.backward()\n",
    "    optimizer.step()\n",
    "    print(x, y)\n",
    "    \n",
    "    x_line.append(x.item())\n",
    "    y_line.append(y.item())"
   ]
  },
  {
   "cell_type": "code",
   "execution_count": 18,
   "id": "8398061e-500b-44f7-bd30-8a9e17c20364",
   "metadata": {},
   "outputs": [
    {
     "data": {
      "text/plain": [
       "3.9999938011169434"
      ]
     },
     "execution_count": 18,
     "metadata": {},
     "output_type": "execute_result"
    }
   ],
   "source": [
    "x.item()"
   ]
  },
  {
   "cell_type": "code",
   "execution_count": 12,
   "id": "6658bb42-54a0-481e-ac7e-afb821821333",
   "metadata": {},
   "outputs": [
    {
     "data": {
      "text/plain": [
       "[<matplotlib.lines.Line2D at 0x7f5e4563c640>]"
      ]
     },
     "execution_count": 12,
     "metadata": {},
     "output_type": "execute_result"
    },
    {
     "data": {
      "image/png": "[encoded data removed]",
      "text/plain": [
       "<Figure size 640x480 with 1 Axes>"
      ]
     },
     "metadata": {},
     "output_type": "display_data"
    }
   ],
   "source": [
    "#TODO : creat a line plot of x and y / to check if x is right value\n",
    "plt.plot(x_line, y_line)  # batch : can't call np() on Tensor, "
   ]
  },
  {
   "cell_type": "markdown",
   "id": "78baa37d-ff58-4de5-92f2-9e71ff313d63",
   "metadata": {},
   "source": [
    "# Part 4: Linear Regression"
   ]
  },
  {
   "cell_type": "code",
   "execution_count": 13,
   "id": "92912590-962f-4e35-890e-52d25e4eeb07",
   "metadata": {},
   "outputs": [
    {
     "data": {
      "text/plain": [
       "<matplotlib.legend.Legend at 0x7f5e4352e7d0>"
      ]
     },
     "execution_count": 13,
     "metadata": {},
     "output_type": "execute_result"
    },
    {
     "data": {
      "image/png": "[encoded data removed]",
      "text/plain": [
       "<Figure size 640x480 with 1 Axes>"
      ]
     },
     "metadata": {},
     "output_type": "display_data"
    }
   ],
   "source": [
    "plt.plot(x_line, y_line, label = \"x-y\")\n",
    "plt.plot(x_line, label = \"x\")\n",
    "plt.plot(y_line, label = \"y\")\n",
    "plt.legend()"
   ]
  },
  {
   "cell_type": "code",
   "execution_count": 14,
   "id": "91a67edd-b62a-4667-a1a6-fc0efd035ca2",
   "metadata": {},
   "outputs": [
    {
     "name": "stdout",
     "output_type": "stream",
     "text": [
      "tensor([[103., 154., 328., 277., 171., 150.,  88.,  41.,  15.,   0.],\n",
      "        [154., 189., 299., 285., 200., 135.,  96.,  23.,  13.,   0.],\n",
      "        [176., 270., 244., 302., 277., 275., 202.,  92.,  35.,  12.],\n",
      "        [128., 192., 179., 213., 244., 274., 227., 139.,  59.,  10.],\n",
      "        [ 93., 125., 128., 159., 103.,  86.,  56.,  17.,   0.,   0.],\n",
      "        [ 96., 169., 176., 193., 187., 159., 140.,  79.,  55.,  18.],\n",
      "        [ 64., 104., 157., 194., 144., 132., 111.,  45.,  14.,   5.],\n",
      "        [111., 156., 249., 241., 168., 171., 153.,  27.,  10.,   0.],\n",
      "        [ 57.,  53., 101., 102.,  78.,  72.,  73.,  55.,  35.,  15.],\n",
      "        [ 49., 142.,  72.,  98., 135., 157., 135.,  72.,  28.,   0.],\n",
      "        [105., 135., 166., 213., 201., 192., 151.,  90.,  21.,   0.]],\n",
      "       dtype=torch.float64)\n",
      "tensor([[ 0.],\n",
      "        [ 9.],\n",
      "        [18.],\n",
      "        [ 9.],\n",
      "        [ 4.],\n",
      "        [15.],\n",
      "        [ 5.],\n",
      "        [ 5.],\n",
      "        [ 9.],\n",
      "        [ 7.],\n",
      "        [ 6.]], dtype=torch.float64)\n"
     ]
    }
   ],
   "source": [
    "ds = torch.utils.data.TensorDataset(trainX, trainY)\n",
    "dl = torch.utils.data.DataLoader(ds, shuffle = True, batch_size = 11) # use shuffle,\n",
    "\n",
    "#ds # <torch.utils.data.dataset.TensorDataset at 0x7f1b2f5ba980>\n",
    "#dl # <torch.utils.data.dataloader.DataLoader at 0x7f1b2ef28220>\n",
    "\n",
    "#TODO : try batch sizes and decide the size. (try : 3, 10, 11)\n",
    "\n",
    "for batchx, batchy in dl:\n",
    "    print(batchx) # torch.float64 (input)\n",
    "    print(batchy)\n",
    "    break"
   ]
  },
  {
   "cell_type": "code",
   "execution_count": 15,
   "id": "a02042c8-4e58-42c1-84a2-8fa0b61eed40",
   "metadata": {},
   "outputs": [
    {
     "name": "stdout",
     "output_type": "stream",
     "text": [
      "torch.Size([1044, 10])\n",
      "torch.Size([1044, 1])\n"
     ]
    }
   ],
   "source": [
    "print(trainX.shape) #torch.Size([1044, 10])\n",
    "print(trainY.shape) #torch.Size([1044, 1])"
   ]
  },
  {
   "cell_type": "code",
   "execution_count": 16,
   "id": "aef35690-0b3f-4c2e-b956-24dd34c0515c",
   "metadata": {},
   "outputs": [
    {
     "ename": "NameError",
     "evalue": "name 'ds_train' is not defined",
     "output_type": "error",
     "traceback": [
      "\u001b[0;31m---------------------------------------------------------------------------\u001b[0m",
      "\u001b[0;31mNameError\u001b[0m                                 Traceback (most recent call last)",
      "Cell \u001b[0;32mIn[16], line 31\u001b[0m\n\u001b[1;32m     28\u001b[0m         optimizer\u001b[38;5;241m.\u001b[39mzero_grad() \u001b[38;5;66;03m# weight.grad = 0 and bias.grad = 0\u001b[39;00m\n\u001b[1;32m     29\u001b[0m         \u001b[38;5;66;03m# change model params based on loss\u001b[39;00m\n\u001b[1;32m     30\u001b[0m     \u001b[38;5;66;03m# how well are we doing\u001b[39;00m\n\u001b[0;32m---> 31\u001b[0m     x, y \u001b[38;5;241m=\u001b[39m \u001b[43mds_train\u001b[49m[:]\n\u001b[1;32m     32\u001b[0m     \u001b[38;5;28mprint\u001b[39m(epoch, loss_fn(y, model(x))) \u001b[38;5;66;03m# loss_fn(real Y, predicted Y)\u001b[39;00m\n\u001b[1;32m     33\u001b[0m \u001b[38;5;66;03m# calcuate torch.nn.MSELoss with \"loss_fn = torch.nn.MSELoss(), we already defined. \u001b[39;00m\n",
      "\u001b[0;31mNameError\u001b[0m: name 'ds_train' is not defined"
     ]
    }
   ],
   "source": [
    "# 1. choose model size based on size X, Y : 10, 1\n",
    "# 2. try and choose lr. : 0.1, 0.01, 0.001, 0.0001 ~ 0.0000005, 0.0000001, \n",
    "# 3. try and choose epoch : 30, 50, 60, 70, 80, 90, 100\n",
    "# 4. try and choose batch size : 3, 10, 11\n",
    "\n",
    "model = torch.nn.Linear(10,1) #  # choose the size based on X, Y [1044, 10], [1044, 1]\n",
    "\n",
    "model.weight.data = model.weight.data.to(torch.float64) # debug : # mat1 and mat2 must have the same dtype / input to the linear(torch.float64) / weight matrix for the module(\n",
    "model.bias.data = model.bias.data.to(torch.float64)   # print(model.weight.dtype, model.bias.dtype) # float.32 -> 64\n",
    "\n",
    "\n",
    "optimizer = torch.optim.SGD([model.weight, model.bias], lr = 0.0000005)  \n",
    "                                                       # TODO : choose lr. \n",
    "                     # this will optimize the model.weight, model.bias parameters \n",
    "\n",
    "loss_fn = torch.nn.MSELoss()\n",
    "\n",
    "start = time.time()\n",
    "\n",
    "# TODO : write a training loop with trying differnet \"numbers of epochs\"\n",
    "for epoch in range(50):  # try : \n",
    "    for batchx, batchy in dl:\n",
    "        predictedy = model(batchx) \n",
    "        loss = loss_fn(batchy, predictedy)\n",
    "        #change model params based on loss. \n",
    "        loss.backward()      # update wiehgt.grad and bias.grad\n",
    "        optimizer.step()     # update weight and bias based on the gradients, \n",
    "        optimizer.zero_grad() # weight.grad = 0 and bias.grad = 0\n",
    "        # change model params based on loss\n",
    "    # how well are we doing\n",
    "    x, y = ds_train[:]\n",
    "    print(epoch, loss_fn(y, model(x))) # loss_fn(real Y, predicted Y)\n",
    "# calcuate torch.nn.MSELoss with \"loss_fn = torch.nn.MSELoss(), we already defined. \n",
    "\n",
    "end = time.time()\n",
    "\n",
    "# TODO : report r2_score > 0.5\n",
    "print(\"\\nResult\")\n",
    "print(\"R2_score :\", r2_score(batchy, predictedy).item())\n",
    "\n",
    "# TODO : print how long training took \n",
    "how_long = end - start\n",
    "print(\"It took\", how_long, \"sec\")\n",
    "\n",
    "# TODO : creat a bar plot, showing each of the numbers in the model.wiehgt tensor. \n",
    "   # x-axis : column nmaes, each coeficeint(from train.columns.)\n",
    "    \n",
    "# plot.bar(model.weight / columns, coeficient from train)"
   ]
  },
  {
   "cell_type": "code",
   "execution_count": null,
   "id": "69a1116f-5e00-4427-ab00-3c36d10c09be",
   "metadata": {},
   "outputs": [],
   "source": [
    "labels = train_csv.columns[:-1].tolist()\n",
    "new_labels = [x.split(\"_\")[1]+\"_\"+x.split(\"_\")[2] for x in labels]\n",
    "new_labels\n",
    "new_labels[-1] = '90_'"
   ]
  },
  {
   "cell_type": "code",
   "execution_count": null,
   "id": "ea9e6cc0-bcd4-4b18-822d-695c9d6b5793",
   "metadata": {},
   "outputs": [],
   "source": [
    "model.weight.detach().numpy()"
   ]
  },
  {
   "cell_type": "code",
   "execution_count": null,
   "id": "5834d9f4-8fb3-4301-9da4-82010535ec21",
   "metadata": {},
   "outputs": [],
   "source": [
    "# TODO : creat a bar plot, showing each of the numbers in the model.wiehgt tensor. \n",
    "   # x-axis : column nmaes, each coeficeint(from train.columns.)\n",
    "\n",
    "plt.bar(new_labels, model.weight.detach().numpy()[0])\n",
    "plt.show()\n",
    "\n",
    "# Mismatch is between arg 0 with shape (11,) and arg 1 with shape (1, 10)."
   ]
  },
  {
   "cell_type": "code",
   "execution_count": null,
   "id": "0e46e9b6-330a-4757-b6b4-80be22464b80",
   "metadata": {},
   "outputs": [],
   "source": [
    "from torch.utils.tensorboard import SummaryWriter\n",
    "writer = SummaryWriter()"
   ]
  },
  {
   "cell_type": "code",
   "execution_count": null,
   "id": "1dbf7dd4-5146-44e2-9be7-11589e846036",
   "metadata": {},
   "outputs": [],
   "source": []
  },
  {
   "cell_type": "code",
   "execution_count": null,
   "id": "bba7c080-c257-45f7-bde6-4a9f4e6ffe6f",
   "metadata": {},
   "outputs": [],
   "source": []
  },
  {
   "cell_type": "code",
   "execution_count": null,
   "id": "7eb8e42e-133d-4a82-9c25-f52ec0135576",
   "metadata": {},
   "outputs": [],
   "source": []
  },
  {
   "cell_type": "code",
   "execution_count": null,
   "id": "f28c57a8-f57c-484f-bc70-b4f1e535fff8",
   "metadata": {},
   "outputs": [],
   "source": []
  }
 ],
 "metadata": {
  "kernelspec": {
   "display_name": "Python 3 (ipykernel)",
   "language": "python",
   "name": "python3"
  },
  "language_info": {
   "codemirror_mode": {
    "name": "ipython",
    "version": 3
   },
   "file_extension": ".py",
   "mimetype": "text/x-python",
   "name": "python",
   "nbconvert_exporter": "python",
   "pygments_lexer": "ipython3",
   "version": "3.10.6"
  }
 },
 "nbformat": 4,
 "nbformat_minor": 5
}
